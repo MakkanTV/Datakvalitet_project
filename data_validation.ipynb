{
 "cells": [
  {
   "metadata": {},
   "cell_type": "markdown",
   "source": [
    "Linus: generalisering, skapa regler som säger ok, h är har det uppstått ett nytt fel som vi inte upptäckt innan. skapa kod som förebygger sådana saker. tänk virusskydd som ska skydda men där en bakterie kan ändra sitt beteende och angripa ändå. alltså att skapa beredskap\n",
    "för att hantera nyinkommande fel"
   ],
   "id": "9baec35b9d3ea6c0"
  },
  {
   "metadata": {
    "ExecuteTime": {
     "end_time": "2025-05-22T07:27:44.730014Z",
     "start_time": "2025-05-22T07:27:44.452221Z"
    }
   },
   "cell_type": "code",
   "source": [
    "import pandas as pd\n",
    "\n",
    "# Ladda datasetet\n",
    "df = pd.read_csv(\"transactions.csv\", dtype={\"receiver_account\": str})\n",
    "\n",
    "\n",
    "# Se till att datan är korrekt inläst\n",
    "print(df.head())  # Visar första raderna av datan\n"
   ],
   "id": "7fccccab74902fa7",
   "outputs": [
    {
     "name": "stdout",
     "output_type": "stream",
     "text": [
      "                         transaction_id            timestamp     amount  \\\n",
      "0  f2f3b0fc-b7d7-4d85-b682-cbf07ef77c1a  2025-03-06 12:04:00    7746.03   \n",
      "1  feccbd1e-7752-4452-a44a-901510252561  2025-03-31 01:37:00   45193.04   \n",
      "2  bc6a480c-e2e1-434d-830c-1cda3f913038  2025-04-29 22:58:00   33029.71   \n",
      "3  b832aa2c-77f3-4c4f-9697-9776b8d74abb  2025-02-27 14:52:00  35994 .61   \n",
      "4  0d32c6ef-508e-4f5d-bc64-341a0a9f498d  2025-01-03 22:29:00   32229.73   \n",
      "\n",
      "  currency            sender_account          receiver_account sender_country  \\\n",
      "0      SEK  SE8902EWFT80524424320740  SE8902ZUIH32054423564254         Sweden   \n",
      "1      SEK  SE8902GTSI58472323675409  SE8902ERNA19462716907689         Sweden   \n",
      "2      SEK  SE8902SEZT63377163386089  SE8902LOLQ30361773270969         Sweden   \n",
      "3      SEK  SE8902MGEE43594824630478  SE8902XIVG18316797897983         Sweden   \n",
      "4      SEK  SE8902SZWO66860675966705  SE8902SUUS97732018069804         Sweden   \n",
      "\n",
      "  sender_municipality receiver_country receiver_municipality transaction_type  \\\n",
      "0          Karlskrona           Sweden            Eskilstuna         outgoing   \n",
      "1               Piteå           Sweden            Norrköping         outgoing   \n",
      "2           Östersund           Sweden             Karlskoga         incoming   \n",
      "3            Karlstad           Sweden           Helsingborg         incoming   \n",
      "4          Skellefteå           Sweden                 Falun         outgoing   \n",
      "\n",
      "             notes  \n",
      "0  Online purchase  \n",
      "1       Tax refund  \n",
      "2       Tax refund  \n",
      "3              NaN  \n",
      "4       Tax refund  \n"
     ]
    },
    {
     "name": "stderr",
     "output_type": "stream",
     "text": [
      "C:\\Users\\milan\\AppData\\Local\\Temp\\ipykernel_61156\\795136958.py:4: DtypeWarning: Columns (2) have mixed types. Specify dtype option on import or set low_memory=False.\n",
      "  df = pd.read_csv(\"transactions.csv\", dtype={\"receiver_account\": str})\n"
     ]
    }
   ],
   "execution_count": 23
  },
  {
   "metadata": {
    "ExecuteTime": {
     "end_time": "2025-05-22T07:17:31.751118Z",
     "start_time": "2025-05-22T07:17:31.727815Z"
    }
   },
   "cell_type": "code",
   "source": "print(df.iloc[:, 2].apply(type).value_counts())  # Kontrollera vilka typer som finns i kolumn (2)\n",
   "id": "c226a9bea7ffa15a",
   "outputs": [
    {
     "name": "stdout",
     "output_type": "stream",
     "text": [
      "amount\n",
      "<class 'str'>      65536\n",
      "<class 'float'>    34464\n",
      "Name: count, dtype: int64\n"
     ]
    }
   ],
   "execution_count": 16
  },
  {
   "metadata": {
    "ExecuteTime": {
     "end_time": "2025-05-22T07:19:49.674968Z",
     "start_time": "2025-05-22T07:19:49.660879Z"
    }
   },
   "cell_type": "code",
   "source": "print(df.iloc[:, 2].apply(type).value_counts())  # Lista datatyper och antal rader\n",
   "id": "3789647d2ad43415",
   "outputs": [
    {
     "name": "stdout",
     "output_type": "stream",
     "text": [
      "amount\n",
      "<class 'str'>      65536\n",
      "<class 'float'>    34464\n",
      "Name: count, dtype: int64\n"
     ]
    }
   ],
   "execution_count": 17
  },
  {
   "metadata": {
    "ExecuteTime": {
     "end_time": "2025-05-22T07:21:22.693764Z",
     "start_time": "2025-05-22T07:21:22.661708Z"
    }
   },
   "cell_type": "code",
   "source": "print(df[\"amount\"].loc[df[\"amount\"].apply(lambda x: isinstance(x, str))].sample(20))  # Slumpmässigt urval av 20 strängvärden\n",
   "id": "1e6a54bfd63c64b8",
   "outputs": [
    {
     "name": "stdout",
     "output_type": "stream",
     "text": [
      "63333    30943.23\n",
      "614      29990.41\n",
      "58650     7288.47\n",
      "64968    19698.94\n",
      "57619     3967.94\n",
      "42194    21205.46\n",
      "62758    47450.85\n",
      "33352    18722.17\n",
      "4127     13153.96\n",
      "59792    47875.31\n",
      "36780    15269.49\n",
      "1476     28149.52\n",
      "51665     43314.3\n",
      "6595     29839.75\n",
      "53576    25320.57\n",
      "51024     13681.2\n",
      "12502     3174.34\n",
      "16542    40039.53\n",
      "20087     4244.21\n",
      "27026    39584.67\n",
      "Name: amount, dtype: object\n"
     ]
    }
   ],
   "execution_count": 18
  },
  {
   "metadata": {
    "ExecuteTime": {
     "end_time": "2025-05-22T07:25:30.953741Z",
     "start_time": "2025-05-22T07:25:30.908876Z"
    }
   },
   "cell_type": "code",
   "source": "df[\"amount\"] = pd.to_numeric(df[\"amount\"], errors=\"coerce\")\n",
   "id": "d20bb7b9c1cf1fb7",
   "outputs": [],
   "execution_count": 19
  },
  {
   "metadata": {
    "ExecuteTime": {
     "end_time": "2025-05-22T14:49:39.949485Z",
     "start_time": "2025-05-22T14:49:39.939011Z"
    }
   },
   "cell_type": "code",
   "source": "df.dtypes",
   "id": "5e52a53536bb1b43",
   "outputs": [
    {
     "data": {
      "text/plain": [
       "transaction_id                   object\n",
       "timestamp                datetime64[ns]\n",
       "amount                          float64\n",
       "currency                         object\n",
       "sender_account                   object\n",
       "receiver_account                 object\n",
       "sender_country                   object\n",
       "sender_municipality              object\n",
       "receiver_country                 object\n",
       "receiver_municipality            object\n",
       "transaction_type                 object\n",
       "notes                            object\n",
       "suspicious                         bool\n",
       "foreign_account                    bool\n",
       "internal_transaction               bool\n",
       "dtype: object"
      ]
     },
     "execution_count": 88,
     "metadata": {},
     "output_type": "execute_result"
    }
   ],
   "execution_count": 88
  },
  {
   "cell_type": "code",
   "id": "initial_id",
   "metadata": {
    "collapsed": true,
    "ExecuteTime": {
     "end_time": "2025-05-26T12:36:31.018249Z",
     "start_time": "2025-05-26T12:36:30.725469Z"
    }
   },
   "source": [
    "from pydantic import BaseModel, Field\n",
    "from datetime import datetime\n",
    "from typing import Optional\n",
    "\n",
    "class Transaction(BaseModel):\n",
    "    transaction_id: str\n",
    "    amount: float = Field(gt=0, description=\"Transaktionsbelopp måste vara positivt\")\n",
    "    timestamp: datetime\n",
    "    currency: str\n",
    "    sender_account: str\n",
    "    receiver_account: str\n",
    "    sender_country: str\n",
    "    sender_municipality: str\n",
    "    receiver_country: str\n",
    "    receiver_municipality: str\n",
    "    transaction_type: str\n",
    "    notes: Optional[str]  # Kan vara tomt\n",
    "\n"
   ],
   "outputs": [],
   "execution_count": 1
  },
  {
   "metadata": {
    "ExecuteTime": {
     "end_time": "2025-05-22T08:38:03.414734Z",
     "start_time": "2025-05-22T08:38:03.406941Z"
    }
   },
   "cell_type": "code",
   "source": [
    "data = {\n",
    "    \"transaction_id\": \"12345\",\n",
    "    \"amount\": 100,\n",
    "    \"timestamp\": \"2025-05-22T08:44:00\",\n",
    "    \"currency\": \"EUR\",\n",
    "    \"sender_account\": \"ABC123\",\n",
    "    \"receiver_account\": \"XYZ789\",\n",
    "    \"sender_country\": \"Sweden\",\n",
    "    \"sender_municipality\": \"Stockholm\",\n",
    "    \"receiver_country\": \"Germany\",\n",
    "    \"receiver_municipality\": \"Berlin\",\n",
    "    \"transaction_type\": \"purchase\",\n",
    "    \"notes\": None\n",
    "}\n",
    "\n",
    "\n",
    "try:\n",
    "    transaction = Transaction(**data)\n",
    "    print(transaction)\n",
    "except Exception as e:\n",
    "    print(f\"Fel vid validering: {e}\")\n"
   ],
   "id": "6903075d02afe450",
   "outputs": [
    {
     "name": "stdout",
     "output_type": "stream",
     "text": [
      "transaction_id='12345' amount=100.0 timestamp=datetime.datetime(2025, 5, 22, 8, 44) currency='EUR' sender_account='ABC123' receiver_account='XYZ789' sender_country='Sweden' sender_municipality='Stockholm' receiver_country='Germany' receiver_municipality='Berlin' transaction_type='purchase' notes=None\n"
     ]
    }
   ],
   "execution_count": 44
  },
  {
   "metadata": {
    "ExecuteTime": {
     "end_time": "2025-05-26T12:36:31.819577Z",
     "start_time": "2025-05-26T12:36:31.171355Z"
    }
   },
   "cell_type": "code",
   "source": [
    "valid_transactions = []\n",
    "invalid_transactions = []\n",
    "\n",
    "for index, row in df.iterrows():\n",
    "    try:\n",
    "        transaction = Transaction(**row.to_dict())\n",
    "        valid_transactions.append(transaction)\n",
    "    except Exception as e:\n",
    "        invalid_transactions.append((index, str(e)))\n",
    "\n",
    "print(f\"Antal giltiga transaktioner: {len(valid_transactions)}\")\n",
    "print(f\"Antal ogiltiga transaktioner: {len(invalid_transactions)}\")\n"
   ],
   "id": "d6cf61b6b97876ad",
   "outputs": [
    {
     "ename": "NameError",
     "evalue": "name 'df' is not defined",
     "output_type": "error",
     "traceback": [
      "\u001B[31m---------------------------------------------------------------------------\u001B[39m",
      "\u001B[31mNameError\u001B[39m                                 Traceback (most recent call last)",
      "\u001B[36mCell\u001B[39m\u001B[36m \u001B[39m\u001B[32mIn[2]\u001B[39m\u001B[32m, line 4\u001B[39m\n\u001B[32m      1\u001B[39m valid_transactions = []\n\u001B[32m      2\u001B[39m invalid_transactions = []\n\u001B[32m----> \u001B[39m\u001B[32m4\u001B[39m \u001B[38;5;28;01mfor\u001B[39;00m index, row \u001B[38;5;129;01min\u001B[39;00m \u001B[43mdf\u001B[49m.iterrows():\n\u001B[32m      5\u001B[39m     \u001B[38;5;28;01mtry\u001B[39;00m:\n\u001B[32m      6\u001B[39m         transaction = Transaction(**row.to_dict())\n",
      "\u001B[31mNameError\u001B[39m: name 'df' is not defined"
     ]
    }
   ],
   "execution_count": 2
  },
  {
   "metadata": {
    "ExecuteTime": {
     "end_time": "2025-05-22T14:57:45.811162Z",
     "start_time": "2025-05-22T14:57:45.805622Z"
    }
   },
   "cell_type": "code",
   "source": [
    "from collections import Counter\n",
    "\n",
    "# Räkna de vanligaste felorsakerna\n",
    "error_counts = Counter([error[1] for error in invalid_transactions])\n",
    "print(error_counts.most_common(1))  # Visa de 10 vanligaste felorsakerna\n"
   ],
   "id": "ad2701eb2cdd7478",
   "outputs": [
    {
     "name": "stdout",
     "output_type": "stream",
     "text": [
      "[]\n"
     ]
    }
   ],
   "execution_count": 91
  },
  {
   "metadata": {
    "ExecuteTime": {
     "end_time": "2025-05-22T08:24:37.872744Z",
     "start_time": "2025-05-22T08:24:37.795389Z"
    }
   },
   "cell_type": "code",
   "source": "df.fillna(\"\", inplace=True)  # Byter ut alla NaN mot tomma strängar\n",
   "id": "838f47161d639ca8",
   "outputs": [],
   "execution_count": 39
  },
  {
   "metadata": {
    "ExecuteTime": {
     "end_time": "2025-05-22T08:25:09.269371Z",
     "start_time": "2025-05-22T08:25:09.234272Z"
    }
   },
   "cell_type": "code",
   "source": "df[\"notes\"] = df[\"notes\"].fillna(\"\").astype(str)  # Ersätt NaN med tomma strängar och tvinga `str`-format\n",
   "id": "34dba3a853a7757b",
   "outputs": [],
   "execution_count": 40
  },
  {
   "metadata": {
    "ExecuteTime": {
     "end_time": "2025-05-22T08:40:04.373904Z",
     "start_time": "2025-05-22T08:40:04.361204Z"
    }
   },
   "cell_type": "code",
   "source": [
    "for index, error in invalid_transactions:\n",
    "    print(f\"Rad {index}: {error}\")\n"
   ],
   "id": "26d64a86acc1c73e",
   "outputs": [
    {
     "name": "stdout",
     "output_type": "stream",
     "text": [
      "Rad 3: 1 validation error for Transaction\n",
      "amount\n",
      "  Input should be a valid number, unable to parse string as a number [type=float_parsing, input_value='35994 .61', input_type=str]\n",
      "    For further information visit https://errors.pydantic.dev/2.10/v/float_parsing\n",
      "Rad 48: 1 validation error for Transaction\n",
      "amount\n",
      "  Input should be a valid number, unable to parse string as a number [type=float_parsing, input_value='33533 81', input_type=str]\n",
      "    For further information visit https://errors.pydantic.dev/2.10/v/float_parsing\n",
      "Rad 372: 1 validation error for Transaction\n",
      "timestamp\n",
      "  Input should be a valid datetime or date, invalid date separator, expected `-` [type=datetime_from_date_parsing, input_value='20250125 04:48:00', input_type=str]\n",
      "    For further information visit https://errors.pydantic.dev/2.10/v/datetime_from_date_parsing\n",
      "Rad 374: 1 validation error for Transaction\n",
      "timestamp\n",
      "  Input should be a valid datetime or date, invalid character in year [type=datetime_from_date_parsing, input_value='25-04-09 12:12:00', input_type=str]\n",
      "    For further information visit https://errors.pydantic.dev/2.10/v/datetime_from_date_parsing\n",
      "Rad 432: 1 validation error for Transaction\n",
      "timestamp\n",
      "  Input should be a valid datetime or date, invalid character in year [type=datetime_from_date_parsing, input_value='25-01-26 09:01:00', input_type=str]\n",
      "    For further information visit https://errors.pydantic.dev/2.10/v/datetime_from_date_parsing\n",
      "Rad 566: 1 validation error for Transaction\n",
      "timestamp\n",
      "  Input should be a valid datetime or date, invalid date separator, expected `-` [type=datetime_from_date_parsing, input_value='20250215 07:06:00', input_type=str]\n",
      "    For further information visit https://errors.pydantic.dev/2.10/v/datetime_from_date_parsing\n",
      "Rad 814: 1 validation error for Transaction\n",
      "timestamp\n",
      "  Input should be a valid datetime or date, unexpected extra characters at the end of the input [type=datetime_from_date_parsing, input_value='2025-01-30 23.30', input_type=str]\n",
      "    For further information visit https://errors.pydantic.dev/2.10/v/datetime_from_date_parsing\n",
      "Rad 817: 1 validation error for Transaction\n",
      "timestamp\n",
      "  Input should be a valid datetime or date, unexpected extra characters at the end of the input [type=datetime_from_date_parsing, input_value='2025-04-01 09.15:00', input_type=str]\n",
      "    For further information visit https://errors.pydantic.dev/2.10/v/datetime_from_date_parsing\n",
      "Rad 821: 1 validation error for Transaction\n",
      "timestamp\n",
      "  Input should be a valid datetime or date, unexpected extra characters at the end of the input [type=datetime_from_date_parsing, input_value='2025-01-31 24:30:00', input_type=str]\n",
      "    For further information visit https://errors.pydantic.dev/2.10/v/datetime_from_date_parsing\n",
      "Rad 866: 1 validation error for Transaction\n",
      "timestamp\n",
      "  Input should be a valid datetime or date, day value is outside expected range [type=datetime_from_date_parsing, input_value='2025-04-31 15:17:00', input_type=str]\n",
      "    For further information visit https://errors.pydantic.dev/2.10/v/datetime_from_date_parsing\n",
      "Rad 876: 1 validation error for Transaction\n",
      "timestamp\n",
      "  Input should be a valid datetime or date, day value is outside expected range [type=datetime_from_date_parsing, input_value='2025-02-30 02:58:00', input_type=str]\n",
      "    For further information visit https://errors.pydantic.dev/2.10/v/datetime_from_date_parsing\n",
      "Rad 884: 1 validation error for Transaction\n",
      "timestamp\n",
      "  Input should be a valid datetime or date, day value is outside expected range [type=datetime_from_date_parsing, input_value='2025-02-29 01:20:00', input_type=str]\n",
      "    For further information visit https://errors.pydantic.dev/2.10/v/datetime_from_date_parsing\n",
      "Rad 911: 1 validation error for Transaction\n",
      "timestamp\n",
      "  Input should be a valid datetime or date, day value is outside expected range [type=datetime_from_date_parsing, input_value='2025-02-29 09:00:00', input_type=str]\n",
      "    For further information visit https://errors.pydantic.dev/2.10/v/datetime_from_date_parsing\n",
      "Rad 913: 1 validation error for Transaction\n",
      "timestamp\n",
      "  Input should be a valid datetime or date, day value is outside expected range [type=datetime_from_date_parsing, input_value='2025-02-30 19:43:00', input_type=str]\n",
      "    For further information visit https://errors.pydantic.dev/2.10/v/datetime_from_date_parsing\n",
      "Rad 1428: 1 validation error for Transaction\n",
      "timestamp\n",
      "  Input should be a valid datetime or date, day value is outside expected range [type=datetime_from_date_parsing, input_value='2025-01-00 10:48:00', input_type=str]\n",
      "    For further information visit https://errors.pydantic.dev/2.10/v/datetime_from_date_parsing\n"
     ]
    }
   ],
   "execution_count": 45
  },
  {
   "metadata": {
    "ExecuteTime": {
     "end_time": "2025-05-22T08:42:36.349214Z",
     "start_time": "2025-05-22T08:42:36.257834Z"
    }
   },
   "cell_type": "code",
   "source": "df[\"amount\"] = df[\"amount\"].astype(str).str.replace(\" \", \"\").astype(float)\n",
   "id": "8a83e58c2b00d957",
   "outputs": [],
   "execution_count": 46
  },
  {
   "metadata": {
    "ExecuteTime": {
     "end_time": "2025-05-22T08:48:19.758220Z",
     "start_time": "2025-05-22T08:48:19.725933Z"
    }
   },
   "cell_type": "code",
   "source": [
    "print(df[\"timestamp\"].apply(type).value_counts())  # Kontrollera datatyper i timestamp\n",
    "print(df[\"timestamp\"].head(20))  # Visa exempel på timestamps\n"
   ],
   "id": "ad0b2ca3f14f6313",
   "outputs": [
    {
     "name": "stdout",
     "output_type": "stream",
     "text": [
      "timestamp\n",
      "<class 'str'>    100000\n",
      "Name: count, dtype: int64\n",
      "0     2025-03-06 12:04:00\n",
      "1     2025-03-31 01:37:00\n",
      "2     2025-04-29 22:58:00\n",
      "3     2025-02-27 14:52:00\n",
      "4     2025-01-03 22:29:00\n",
      "5     2025-01-13 04:03:00\n",
      "6     2025-01-25 03:01:00\n",
      "7     2025-04-07 16:48:00\n",
      "8     2025-04-08 09:16:00\n",
      "9     2025-05-17 20:20:00\n",
      "10    2025-01-23 17:07:00\n",
      "11    2025-01-24 05:54:00\n",
      "12    2025-01-22 17:45:00\n",
      "13    2025-03-01 01:21:00\n",
      "14    2025-01-23 21:47:00\n",
      "15    2025-05-17 02:07:00\n",
      "16    2025-02-23 08:45:00\n",
      "17    2025-05-08 18:22:00\n",
      "18    2025-02-19 12:34:00\n",
      "19    2025-03-11 18:00:00\n",
      "Name: timestamp, dtype: object\n"
     ]
    }
   ],
   "execution_count": 51
  },
  {
   "metadata": {
    "ExecuteTime": {
     "end_time": "2025-05-22T08:50:39.574433Z",
     "start_time": "2025-05-22T08:50:39.487171Z"
    }
   },
   "cell_type": "code",
   "source": "df[\"timestamp\"] = pd.to_datetime(df[\"timestamp\"], errors=\"coerce\")\n",
   "id": "c109edef0ea2a20d",
   "outputs": [],
   "execution_count": 52
  },
  {
   "metadata": {
    "ExecuteTime": {
     "end_time": "2025-05-22T08:51:06.293473Z",
     "start_time": "2025-05-22T08:51:06.226966Z"
    }
   },
   "cell_type": "code",
   "source": [
    "invalid_timestamps = df.loc[df[\"timestamp\"].isna()]  # Hitta NaT-värden\n",
    "print(invalid_timestamps)\n"
   ],
   "id": "d16f3e32649dddc3",
   "outputs": [
    {
     "name": "stdout",
     "output_type": "stream",
     "text": [
      "                            transaction_id timestamp    amount currency  \\\n",
      "372   e13b1664-c549-4f92-895a-1f941dd6d82e       NaT  12881.63      SEK   \n",
      "374   7bfcf599-e449-4e63-a3f9-05631511e58a       NaT  20223.17      SEK   \n",
      "432   b75a64f1-d111-4261-9df0-53f2c38e2828       NaT  45069.28      SEK   \n",
      "566   bc91f1d3-e0b0-471b-844f-7e14941d3236       NaT   9908.07      SEK   \n",
      "658   e4ec0cfc-55e8-4ca1-b3f4-0948a1b8e997       NaT   3080.18      SEK   \n",
      "661   13638365-972b-4fd8-9518-f27557a7e1cd       NaT  34157.12      SEK   \n",
      "761   fda4c622-1044-49aa-bc41-b44bdd50bc9c       NaT   2192.15      SEK   \n",
      "814   bc23bd09-5b6a-4ebe-95ae-7dad0cde315a       NaT  21899.83      SEK   \n",
      "817   9687e5ce-f8e0-4afa-ac0c-54d8c6ef457f       NaT  36969.56      SEK   \n",
      "821   aee31e4c-e8c1-4fa5-b8bf-53815ab51b55       NaT  39794.00      SEK   \n",
      "866   f46345d0-c1f8-46d7-ae78-47c4a6b52fee       NaT   9573.92      SEK   \n",
      "876   2f48c8d5-cad7-48b0-8f8c-2f1324911dfd       NaT  34373.92      SEK   \n",
      "884   776cbccf-2d92-4e83-a702-6b6261fa7de0       NaT  46318.06      SEK   \n",
      "911   2452bd7a-a1b4-425d-a9e1-a6299edbc458       NaT  31961.53      SEK   \n",
      "913   bf0e480f-3993-4f19-99c3-8e223bd1cada       NaT   6091.76      SEK   \n",
      "1428  99ca438b-d55e-4ba4-b6fc-c353cc5d810b       NaT  22074.32      SEK   \n",
      "\n",
      "                sender_account          receiver_account sender_country  \\\n",
      "372   SE8902IOSH72112913547339  SE8902EXDO77351409949930         Sweden   \n",
      "374   SE8902UEXU77157980119965  SE8902EMWA07310860593299         Sweden   \n",
      "432   SE8902PBIW30011757227628  SE8902SZWO66860675966705         Sweden   \n",
      "566   SE8902HEXR67420014606110  SE8902PBIW30011757227628         Sweden   \n",
      "658   SE8902RXEO54698137995629  SE8902PXQH61449282091685         Sweden   \n",
      "661   SE8902XMWU73408358252236  SE8902HPKQ79721411987869                  \n",
      "761   SE8902KSGF71738325166005  SE8902SWFR35893590471977         Sweden   \n",
      "814   SE8902GPFA36799720094528  SE8902AEOP68872744631879         Sweden   \n",
      "817   SE8902ZKDX10421013051508  SE8902ZQHA53957175041781         Sweden   \n",
      "821   SE8902FIYI65713456085419  SE8902RNER71700945656875         Sweden   \n",
      "866   SE8902NFSW96446848690649  SE8902IFPV72140679061770         Sweden   \n",
      "876   SE8902AEQJ97044224731438  SE8902FZSE04507369196975         Sweden   \n",
      "884   SE8902JZYF06547820263799  SE8902IBRL73514393853709         Sweden   \n",
      "911   SE8902IGFR09709190696891  SE8902GTCY42439402519574         Sweden   \n",
      "913   SE8902IILS20920256766703  SE8902WGYQ69186751021705         Sweden   \n",
      "1428  SE8902APWS33564004625903  SE8902MVZJ65066103207787         Sweden   \n",
      "\n",
      "     sender_municipality receiver_country receiver_municipality  \\\n",
      "372           Norrköping           Sweden            Trelleborg   \n",
      "374         Kristianstad           Sweden                 Luleå   \n",
      "432             Göteborg           Sweden               Lidingö   \n",
      "566           Karlskrona           Sweden              Göteborg   \n",
      "658            Sundsvall           Sweden             Uddevalla   \n",
      "661                Malmö           Sweden                 Luleå   \n",
      "761                 Lund           Sweden                  Umeå   \n",
      "814            Uddevalla           Sweden                 Borås   \n",
      "817            Jönköping           Sweden                Motala   \n",
      "821             Alingsås           Sweden             Linköping   \n",
      "866                Malmö           Sweden              Borlänge   \n",
      "876             Halmstad           Sweden             Sandviken   \n",
      "884              Lidingö           Sweden                 Luleå   \n",
      "911                                Sweden             Sandviken   \n",
      "913                Luleå           Sweden            Södertälje   \n",
      "1428             Lidingö           Sweden                 Falun   \n",
      "\n",
      "     transaction_type                      notes  \n",
      "372          incoming             Loan repayment  \n",
      "374          incoming             Loan repayment  \n",
      "432          incoming  Payment for invoice #3222  \n",
      "566          incoming              Rent transfer  \n",
      "658          incoming           Insurance payout  \n",
      "661          outgoing  Payment for invoice #8946  \n",
      "761          incoming               Utility bill  \n",
      "814          outgoing            Online purchase  \n",
      "817          incoming               Utility bill  \n",
      "821          outgoing            Mobile recharge  \n",
      "866          incoming                 Tax refund  \n",
      "876          outgoing  Payment for invoice #9893  \n",
      "884          incoming            Mobile recharge  \n",
      "911          incoming            Mobile recharge  \n",
      "913          incoming      Gift to family member  \n",
      "1428         incoming            Online purchase  \n"
     ]
    }
   ],
   "execution_count": 53
  },
  {
   "metadata": {
    "ExecuteTime": {
     "end_time": "2025-05-22T08:57:21.058428Z",
     "start_time": "2025-05-22T08:57:21.031404Z"
    }
   },
   "cell_type": "code",
   "source": "df[\"timestamp\"] = df[\"timestamp\"].fillna(pd.Timestamp(\"1900-01-01 00:00:00\"))\n",
   "id": "7052c01bf8852277",
   "outputs": [],
   "execution_count": 54
  },
  {
   "metadata": {},
   "cell_type": "markdown",
   "source": "implementering av regler",
   "id": "3f9df6c1772194ad"
  },
  {
   "metadata": {
    "ExecuteTime": {
     "end_time": "2025-05-22T14:46:47.871491Z",
     "start_time": "2025-05-22T14:46:47.810865Z"
    }
   },
   "cell_type": "code",
   "source": [
    "import datetime\n",
    "\n",
    "def is_suspicious(transaction):\n",
    "    now = datetime.datetime.now()\n",
    "    return (\n",
    "        transaction[\"amount\"] <= 0 or\n",
    "        transaction[\"timestamp\"] > now or\n",
    "        transaction[\"sender_account\"] == transaction[\"receiver_account\"]\n",
    "    )\n",
    "\n"
   ],
   "id": "61a3db494b68c2f8",
   "outputs": [],
   "execution_count": 84
  },
  {
   "metadata": {
    "ExecuteTime": {
     "end_time": "2025-05-22T14:46:49.413857Z",
     "start_time": "2025-05-22T14:46:49.406807Z"
    }
   },
   "cell_type": "code",
   "source": [
    "def is_foreign_account(sender_country):\n",
    "    return sender_country != \"Sweden\"  # Jämför direkt mot landnamn istället för landkod\n",
    "\n",
    "\n"
   ],
   "id": "4c6bf55d370e0eac",
   "outputs": [],
   "execution_count": 85
  },
  {
   "metadata": {
    "ExecuteTime": {
     "end_time": "2025-05-22T14:46:50.272363Z",
     "start_time": "2025-05-22T14:46:50.264435Z"
    }
   },
   "cell_type": "code",
   "source": [
    "def is_internal_transaction(sender_country, receiver_country):\n",
    "    return sender_country == \"Sweden\" and receiver_country == \"Sweden\"\n"
   ],
   "id": "70656d46c2beeb8c",
   "outputs": [],
   "execution_count": 86
  },
  {
   "metadata": {
    "ExecuteTime": {
     "end_time": "2025-05-22T10:07:09.454880Z",
     "start_time": "2025-05-22T10:07:07.792596Z"
    }
   },
   "cell_type": "code",
   "source": [
    "df[\"suspicious\"] = df.apply(is_suspicious, axis=1)\n",
    "df[\"foreign_account\"] = df[\"sender_country\"].apply(lambda x: x != \"Sweden\")\n",
    "df[\"internal_transaction\"] = df.apply(lambda x: is_internal_transaction(x[\"sender_country\"], x[\"receiver_country\"]), axis=1)\n"
   ],
   "id": "6aed0d3e2f9a0263",
   "outputs": [],
   "execution_count": 78
  },
  {
   "metadata": {
    "ExecuteTime": {
     "end_time": "2025-05-22T10:07:11.786810Z",
     "start_time": "2025-05-22T10:07:11.772505Z"
    }
   },
   "cell_type": "code",
   "source": "print(df[\"foreign_account\"].value_counts())\n",
   "id": "9d68d8a3eeb80359",
   "outputs": [
    {
     "name": "stdout",
     "output_type": "stream",
     "text": [
      "foreign_account\n",
      "False    80473\n",
      "True     19527\n",
      "Name: count, dtype: int64\n"
     ]
    }
   ],
   "execution_count": 79
  },
  {
   "metadata": {
    "ExecuteTime": {
     "end_time": "2025-05-22T10:08:30.851271Z",
     "start_time": "2025-05-22T10:08:30.803022Z"
    }
   },
   "cell_type": "code",
   "source": "print(df[df[\"foreign_account\"] == True].head(10))\n",
   "id": "483caf076c06fcdc",
   "outputs": [
    {
     "name": "stdout",
     "output_type": "stream",
     "text": [
      "                            transaction_id           timestamp    amount  \\\n",
      "188   709e9718-7e51-4f56-9b55-d44615eace43 2025-04-27 17:50:00  24156.67   \n",
      "296   eaebcdd9-5ba6-4966-9bd0-3bac7d6ba12c 2025-02-11 15:01:00   5020.92   \n",
      "496   519cd1ac-0199-4e40-a313-9e836bc07b5f 2025-03-15 21:16:00  36157.41   \n",
      "633   a05cf133-2531-4584-bd76-9968e77f4fe7 2025-03-30 18:46:00  14434.71   \n",
      "661   13638365-972b-4fd8-9518-f27557a7e1cd 1900-01-01 00:00:00  34157.12   \n",
      "864   ad008209-be9f-42df-9e9a-8f1d2f62ace1 2025-03-01 05:13:00  21730.91   \n",
      "941   53e87c84-5146-4511-a890-69d427dceb69 2025-03-14 23:11:00   5673.19   \n",
      "1606  5cd62eb6-1a23-4025-bee4-6814c667f0bb 2026-01-24 01:12:00  27159.91   \n",
      "1690  13b2ff5d-0e14-406e-aca7-12c67c4f08c2 2025-01-20 03:54:00  35498.21   \n",
      "2285  ef21a9a7-1c36-4dc9-85b6-8d5be15c41a4 2025-04-10 03:50:00  29344.24   \n",
      "\n",
      "     currency            sender_account          receiver_account  \\\n",
      "188       SEK  SE8902IGFR09709190696891  SE8902QORV15540178275192   \n",
      "296       SEK  SE8902PHZM16349003541849  SE8902UYJX99302103272039   \n",
      "496       SEK  SE8902OPYN00691430716758  SE8902LOMD27700424580738   \n",
      "633       SEK  SE8902VWAD86682394986970  SE8902QOGT82411918877034   \n",
      "661       SEK  SE8902XMWU73408358252236  SE8902HPKQ79721411987869   \n",
      "864       SEK  SE8902MGEE43594824630478  SE8902UNAS99261172805475   \n",
      "941       SEK  SE8902YSBY00812500118146  SE8902AWSW06663692036271   \n",
      "1606      SEK  SE8902PSDU01157140348454  SE8902SHWL66579301942519   \n",
      "1690      SEK  SE8902APIU03455131132898  SE8902GFDB55209282464695   \n",
      "2285      SEK  SE8902AQYT55466061009593  SE8902HDTF05785812830234   \n",
      "\n",
      "     sender_country sender_municipality receiver_country  \\\n",
      "188                              Motala           Sweden   \n",
      "296                            Alingsås           Sweden   \n",
      "496                          Södertälje           Sweden   \n",
      "633                            Karlstad           Sweden   \n",
      "661                               Malmö           Sweden   \n",
      "864                             Lidingö           Sweden   \n",
      "941                              Motala           Sweden   \n",
      "1606                            Varberg           Sweden   \n",
      "1690                          Jönköping           Sweden   \n",
      "2285                           Västerås           Sweden   \n",
      "\n",
      "     receiver_municipality transaction_type                      notes  \\\n",
      "188               Karlstad         incoming            Mobile recharge   \n",
      "296                   Lund         outgoing              Rent transfer   \n",
      "496              Linköping         outgoing           Insurance payout   \n",
      "633              Östersund         outgoing             Salary payment   \n",
      "661                  Luleå         outgoing  Payment for invoice #8946   \n",
      "864               Karlstad         incoming                              \n",
      "941               Göteborg         outgoing   Reimbursement for travel   \n",
      "1606           Trollhättan         incoming                              \n",
      "1690             Stockholm         outgoing               Utility bill   \n",
      "2285            Eskilstuna         incoming                              \n",
      "\n",
      "      suspicious  foreign_account  internal_transaction  \n",
      "188        False             True                 False  \n",
      "296        False             True                 False  \n",
      "496        False             True                 False  \n",
      "633        False             True                 False  \n",
      "661        False             True                 False  \n",
      "864        False             True                 False  \n",
      "941        False             True                 False  \n",
      "1606        True             True                 False  \n",
      "1690       False             True                 False  \n",
      "2285       False             True                 False  \n"
     ]
    }
   ],
   "execution_count": 80
  },
  {
   "metadata": {
    "ExecuteTime": {
     "end_time": "2025-05-22T10:13:32.505040Z",
     "start_time": "2025-05-22T10:13:32.440994Z"
    }
   },
   "cell_type": "code",
   "source": "print(df[df[\"foreign_account\"] == True][[\"sender_country\"]].head(10))\n",
   "id": "c41f1381bd73bcfd",
   "outputs": [
    {
     "name": "stdout",
     "output_type": "stream",
     "text": [
      "     sender_country\n",
      "188                \n",
      "296                \n",
      "496                \n",
      "633                \n",
      "661                \n",
      "864                \n",
      "941                \n",
      "1606               \n",
      "1690               \n",
      "2285               \n"
     ]
    }
   ],
   "execution_count": 81
  },
  {
   "metadata": {
    "ExecuteTime": {
     "end_time": "2025-05-22T10:15:07.201503Z",
     "start_time": "2025-05-22T10:15:07.164033Z"
    }
   },
   "cell_type": "code",
   "source": "print(df[\"sender_country\"].unique())\n",
   "id": "e2df6cd6f21fba78",
   "outputs": [
    {
     "name": "stdout",
     "output_type": "stream",
     "text": [
      "['Sweden' '' 'Denmark' 'Zimbabwe' 'Estonia' 'Germany' 'Ecuador' 'Lebanon'\n",
      " 'Norway' 'Botswana' 'Reunion' 'Cambodia' 'Senegal' 'Nigeria'\n",
      " 'Liechtenstein' 'Isle of Man' 'Saudi Arabia' 'Cuba' 'Monaco'\n",
      " 'Libyan Arab Jamahiriya' 'Georgia' 'Dominican Republic' 'Montserrat'\n",
      " 'Bosnia and Herzegovina' 'Cook Islands' 'Venezuela'\n",
      " 'Holy See (Vatican City State)' 'Finland' 'Bulgaria'\n",
      " 'Turks and Caicos Islands' 'Suriname' 'United States Virgin Islands'\n",
      " 'Iran' 'Slovakia (Slovak Republic)' 'Island' 'Haiti' 'Luxembourg'\n",
      " 'Saint Martin' 'Angola' 'Guatemala' \"Cote d'Ivoire\" 'Oman'\n",
      " 'Christmas Island' 'Singapore' 'Belarus' 'Lithuania'\n",
      " 'Antarctica (the territory South of 60 deg S)' 'Martinique' 'Kenya'\n",
      " 'Turkmenistan' 'Fiji' 'Azerbaijan' 'Burkina Faso' 'United Arab Emirates'\n",
      " 'Andorra' 'Poland' 'Eritrea' 'Niue' 'Togo' 'Malaysia' 'Liberia' 'Ireland'\n",
      " 'Ethiopia' 'Cape Verde' 'Antigua and Barbuda' 'Myanmar' 'Iceland'\n",
      " 'Bahamas' 'Svalbard & Jan Mayen Islands' 'Belize' 'Burundi' 'Benin'\n",
      " 'Croatia' 'Namibia' 'Mongolia' 'Czech Republic' 'Belgium' 'Dominica'\n",
      " 'Honduras' 'Kyrgyz Republic' 'Swaziland' 'American Samoa'\n",
      " 'British Virgin Islands' 'Taiwan' 'New Zealand' 'Maldives' 'Kuwait'\n",
      " 'Niger' 'United States of America' 'Romania' 'South Africa' 'Chad'\n",
      " 'Aruba' 'Cyprus' 'New Caledonia' 'Brunei Darussalam' 'Costa Rica'\n",
      " 'Moldova' 'Norfolk Island' 'Jersey' 'Pitcairn Islands' 'Guam'\n",
      " 'Falkland Islands (Malvinas)' 'Micronesia' 'United Kingdom' 'Tunisia'\n",
      " 'Panama' 'Timor-Leste' 'Bahrain' 'Congo' 'Korea' 'Uzbekistan'\n",
      " 'Tajikistan' 'China' 'Mozambique' 'North Macedonia' 'Faroe Islands'\n",
      " 'Australia' 'Malta' 'French Guiana' 'Turkey' 'Macao'\n",
      " 'Northern Mariana Islands' 'Palau' 'Jamaica' 'Morocco'\n",
      " 'Cocos (Keeling) Islands' 'Indonesia' 'Syrian Arab Republic' 'Ukraine'\n",
      " 'Serbia' 'Central African Republic' 'Thailand' 'Guinea' 'Uganda' 'Rwanda'\n",
      " 'India' 'Iraq' 'Anguilla' 'Grenada' 'Gambia' 'Albania' 'Greenland'\n",
      " 'Nepal' 'Vietnam' 'Netherlands' 'Cayman Islands' 'Paraguay' 'France'\n",
      " 'Jordan' 'Canada' \"Lao People's Democratic Republic\" 'Vanuatu' 'Peru'\n",
      " 'Algeria' 'Tonga' 'Wallis and Futuna' 'Israel' 'Greece' 'Italy' 'Gabon'\n",
      " 'Guinea-Bissau' 'Tanzania' 'Seychelles' 'Samoa' 'Solomon Islands'\n",
      " 'Tuvalu' 'Brazil' 'Bhutan' 'Saint Pierre and Miquelon' 'Sierra Leone'\n",
      " 'Barbados' 'Mexico' 'Puerto Rico' 'Equatorial Guinea' 'Austria'\n",
      " 'Hong Kong' 'Mayotte' 'Mauritius' 'Sao Tome and Principe' 'Lesotho'\n",
      " 'Qatar' 'Portugal' 'Comoros' 'Djibouti' 'Bolivia'\n",
      " 'Bouvet Island (Bouvetoya)'\n",
      " 'British Indian Ocean Territory (Chagos Archipelago)' 'Montenegro'\n",
      " 'Kiribati' 'Mauritania' 'French Polynesia' 'San Marino' 'Ghana'\n",
      " 'Marshall Islands' 'Palestinian Territory' 'Saint Helena'\n",
      " 'United States Minor Outlying Islands' 'Sri Lanka' 'Yemen' 'Malawi'\n",
      " 'Zambia' 'Nauru' 'Afghanistan' 'Argentina' 'Somalia' 'Slovenia' 'Egypt'\n",
      " 'Saint Barthelemy' 'Western Sahara' 'Chile' 'Bermuda' 'Saint Lucia'\n",
      " 'Spain' 'Sudan' 'Mali' 'Hungary' 'Heard Island and McDonald Islands'\n",
      " 'Colombia' 'Japan' 'Tokelau' 'Saint Vincent and the Grenadines' 'Guyana'\n",
      " 'Guadeloupe' 'Bangladesh' 'Guernsey' 'Switzerland'\n",
      " 'Saint Kitts and Nevis' 'Philippines' 'El Salvador' 'Kazakhstan'\n",
      " 'Papua New Guinea' 'Armenia' 'Netherlands Antilles'\n",
      " 'South Georgia and the South Sandwich Islands' 'Nicaragua' 'Uruguay'\n",
      " 'Madagascar' 'Russian Federation' 'Cameroon'\n",
      " 'French Southern Territories' 'Gibraltar' 'Latvia' 'Pakistan'\n",
      " 'Trinidad and Tobago']\n"
     ]
    }
   ],
   "execution_count": 82
  },
  {
   "metadata": {
    "ExecuteTime": {
     "end_time": "2025-05-22T10:16:28.947580Z",
     "start_time": "2025-05-22T10:16:28.904721Z"
    }
   },
   "cell_type": "code",
   "source": "print(df[df[\"sender_country\"] == \"Sweden\"][\"foreign_account\"].value_counts())\n",
   "id": "7b59b5584d2d9b20",
   "outputs": [
    {
     "name": "stdout",
     "output_type": "stream",
     "text": [
      "foreign_account\n",
      "False    80473\n",
      "Name: count, dtype: int64\n"
     ]
    }
   ],
   "execution_count": 83
  },
  {
   "metadata": {},
   "cell_type": "code",
   "outputs": [],
   "execution_count": null,
   "source": "",
   "id": "5b8c717451e27328"
  },
  {
   "metadata": {
    "ExecuteTime": {
     "end_time": "2025-05-22T09:21:42.265593Z",
     "start_time": "2025-05-22T09:21:42.211106Z"
    }
   },
   "cell_type": "code",
   "source": "%whos\n",
   "id": "3670c5e02b607d40",
   "outputs": [
    {
     "name": "stdout",
     "output_type": "stream",
     "text": [
      "Variable                        Type              Data/Info\n",
      "-----------------------------------------------------------\n",
      "BaseModel                       ModelMetaclass    <class 'pydantic.main.BaseModel'>\n",
      "Counter                         type              <class 'collections.Counter'>\n",
      "Field                           function          <function Field at 0x000002689A094C20>\n",
      "Optional                        _SpecialForm      typing.Optional\n",
      "Transaction                     ModelMetaclass    <class '__main__.Transaction'>\n",
      "data                            dict              n=12\n",
      "datetime                        module            <module 'datetime' from '<...>oject\\\\Lib\\\\datetime.py'>\n",
      "df                              DataFrame                                  <...>100000 rows x 14 columns]\n",
      "error                           str               1 validation error for Tr<...>atetime_from_date_parsing\n",
      "error_counts                    Counter           Counter({'1 validation er<...>/2.10/v/string_type': 1})\n",
      "index                           int               99999\n",
      "invalid_timestamps              DataFrame                                  <...>        Online purchase  \n",
      "invalid_transactions            list              n=0\n",
      "is_foreign_account              function          <function is_foreign_acco<...>nt at 0x0000026899B8E020>\n",
      "is_internal_account             function          <function is_internal_acc<...>nt at 0x00000268A03CDF80>\n",
      "is_suspicious                   function          <function is_suspicious at 0x00000268A03CDB20>\n",
      "pd                              module            <module 'pandas' from 'C:<...>es\\\\pandas\\\\__init__.py'>\n",
      "pydev_jupyter_vars              module            <module 'pydev_jupyter_va<...>\\\\pydev_jupyter_vars.py'>\n",
      "remove_imported_pydev_package   function          <function remove_imported<...>ge at 0x0000026899B8EC00>\n",
      "row                             Series            transaction_id           <...>ame: 99999, dtype: object\n",
      "sys                             module            <module 'sys' (built-in)>\n",
      "transaction                     Transaction       transaction_id='94e5a276-<...>_type='outgoing' notes=''\n",
      "valid_transactions              list              n=100000\n"
     ]
    }
   ],
   "execution_count": 60
  },
  {
   "metadata": {},
   "cell_type": "markdown",
   "source": "Regler för små transaktioner",
   "id": "312772eee0f77b16"
  },
  {
   "metadata": {
    "ExecuteTime": {
     "end_time": "2025-05-23T06:01:49.397814Z",
     "start_time": "2025-05-23T06:01:49.231701Z"
    }
   },
   "cell_type": "code",
   "source": [
    "df[\"small_transactions\"] = (df[\"amount\"] < 100)  # Transaktioner under 100 är små transaktioner\n",
    "df[\"transaction_hour\"] = df[\"timestamp\"].dt.hour  # Extrahera timme\n"
   ],
   "id": "ba4b249fc638ca40",
   "outputs": [],
   "execution_count": 92
  },
  {
   "metadata": {
    "ExecuteTime": {
     "end_time": "2025-05-26T08:37:18.298734Z",
     "start_time": "2025-05-26T08:37:18.269252Z"
    }
   },
   "cell_type": "code",
   "source": [
    "df[\"transaction_date\"] = df[\"timestamp\"].dt.date  # Extrahera datum\n",
    "small_tx_counts = df[df[\"small_transactions\"]].groupby([\"sender_account\", \"amount\", \"transaction_date\"]).size()\n",
    "print(small_tx_counts)\n"
   ],
   "id": "2cfd8f61ea325eb7",
   "outputs": [
    {
     "ename": "NameError",
     "evalue": "name 'df' is not defined",
     "output_type": "error",
     "traceback": [
      "\u001B[31m---------------------------------------------------------------------------\u001B[39m",
      "\u001B[31mNameError\u001B[39m                                 Traceback (most recent call last)",
      "\u001B[36mCell\u001B[39m\u001B[36m \u001B[39m\u001B[32mIn[4]\u001B[39m\u001B[32m, line 1\u001B[39m\n\u001B[32m----> \u001B[39m\u001B[32m1\u001B[39m df[\u001B[33m\"\u001B[39m\u001B[33mtransaction_date\u001B[39m\u001B[33m\"\u001B[39m] = df[\u001B[33m\"\u001B[39m\u001B[33mtimestamp\u001B[39m\u001B[33m\"\u001B[39m].dt.date  \u001B[38;5;66;03m# Extrahera datum\u001B[39;00m\n\u001B[32m      2\u001B[39m small_tx_counts = df[df[\u001B[33m\"\u001B[39m\u001B[33msmall_transactions\u001B[39m\u001B[33m\"\u001B[39m]].groupby([\u001B[33m\"\u001B[39m\u001B[33msender_account\u001B[39m\u001B[33m\"\u001B[39m, \u001B[33m\"\u001B[39m\u001B[33mamount\u001B[39m\u001B[33m\"\u001B[39m, \u001B[33m\"\u001B[39m\u001B[33mtransaction_date\u001B[39m\u001B[33m\"\u001B[39m]).size()\n\u001B[32m      3\u001B[39m \u001B[38;5;28mprint\u001B[39m(small_tx_counts)\n",
      "\u001B[31mNameError\u001B[39m: name 'df' is not defined"
     ]
    }
   ],
   "execution_count": 4
  },
  {
   "metadata": {
    "ExecuteTime": {
     "end_time": "2025-05-23T06:30:14.744798Z",
     "start_time": "2025-05-23T06:30:04.531902Z"
    }
   },
   "cell_type": "code",
   "source": [
    "df[\"small_tx_count\"] = df.groupby([\"sender_account\", \"transaction_date\"])[\"amount\"].transform(lambda x: (x < 100).sum())\n",
    "df[\"flag_frequent_small_tx\"] = df[\"small_tx_count\"] > 5\n"
   ],
   "id": "ed97a406c855e8de",
   "outputs": [],
   "execution_count": 95
  },
  {
   "metadata": {
    "ExecuteTime": {
     "end_time": "2025-05-23T07:08:46.060902Z",
     "start_time": "2025-05-23T07:08:45.892421Z"
    }
   },
   "cell_type": "code",
   "source": [
    "flagged_accounts = df[df[\"flag_frequent_small_tx\"]]\n",
    "print(flagged_accounts[[\"sender_account\", \"small_tx_count\", \"transaction_date\"]])\n"
   ],
   "id": "6c9d8af419c4288b",
   "outputs": [
    {
     "name": "stdout",
     "output_type": "stream",
     "text": [
      "Empty DataFrame\n",
      "Columns: [sender_account, small_tx_count, transaction_date]\n",
      "Index: []\n"
     ]
    }
   ],
   "execution_count": 96
  },
  {
   "metadata": {
    "ExecuteTime": {
     "end_time": "2025-05-23T07:11:48.913468Z",
     "start_time": "2025-05-23T07:11:48.852474Z"
    }
   },
   "cell_type": "code",
   "source": "print(df[\"small_tx_count\"].describe())\n",
   "id": "db48744addbea82d",
   "outputs": [
    {
     "name": "stdout",
     "output_type": "stream",
     "text": [
      "count    100000.00000\n",
      "mean          0.00333\n",
      "std           0.05761\n",
      "min           0.00000\n",
      "25%           0.00000\n",
      "50%           0.00000\n",
      "75%           0.00000\n",
      "max           1.00000\n",
      "Name: small_tx_count, dtype: float64\n"
     ]
    }
   ],
   "execution_count": 97
  },
  {
   "metadata": {},
   "cell_type": "markdown",
   "source": "Regeln för små transaktioner",
   "id": "b7aa69a65c73b289"
  },
  {
   "metadata": {
    "ExecuteTime": {
     "end_time": "2025-05-23T07:15:56.233910Z",
     "start_time": "2025-05-23T07:15:48.785922Z"
    }
   },
   "cell_type": "code",
   "source": [
    "# Extrahera transaktionsdatum\n",
    "df[\"transaction_date\"] = df[\"timestamp\"].dt.date\n",
    "\n",
    "# Beräkna antalet små transaktioner per konto och dag\n",
    "df[\"small_tx_count\"] = df.groupby([\"sender_account\", \"transaction_date\"])[\"amount\"].transform(lambda x: (x < 100).sum())\n",
    "\n",
    "# Flagga konton med mer än 5 små transaktioner på en dag\n",
    "df[\"flag_frequent_small_tx\"] = df[\"small_tx_count\"] > 5\n"
   ],
   "id": "3314989478ef6adf",
   "outputs": [],
   "execution_count": 98
  },
  {
   "metadata": {},
   "cell_type": "markdown",
   "source": "Regler för förekomsten av ordet \"gift\" i kolumnen notes",
   "id": "7e3e11e5181e5ec4"
  },
  {
   "metadata": {
    "ExecuteTime": {
     "end_time": "2025-05-23T07:31:43.020906Z",
     "start_time": "2025-05-23T07:31:42.969781Z"
    }
   },
   "cell_type": "code",
   "source": "df[\"flag_contains_gift\"] = df[\"notes\"].str.contains(r\"\\bgift\\b\", case=False, na=False)\n",
   "id": "b3f69c329c1b1926",
   "outputs": [],
   "execution_count": 102
  },
  {
   "metadata": {
    "ExecuteTime": {
     "end_time": "2025-05-23T07:31:44.407684Z",
     "start_time": "2025-05-23T07:31:44.385703Z"
    }
   },
   "cell_type": "code",
   "source": "print(df[df[\"flag_contains_gift\"]][[\"transaction_id\", \"notes\"]])\n",
   "id": "3766dbd3f681b1d9",
   "outputs": [
    {
     "name": "stdout",
     "output_type": "stream",
     "text": [
      "                             transaction_id                  notes\n",
      "15     095cf949-0f07-4119-8dfc-0cc10069de0b  Gift to family member\n",
      "33     51c7adf0-9c6a-4dd9-a788-e3211b934571  Gift to family member\n",
      "40     f2f5437f-d87a-4534-a2bc-37c247f182ed  Gift to family member\n",
      "78     c255762b-897b-4c41-9777-0e5e09d20db8  Gift to family member\n",
      "88     596cda27-e5da-4880-8c4c-908a1a0841fa  Gift to family member\n",
      "...                                     ...                    ...\n",
      "99958  f6f246c2-5dbd-4357-8d9f-d4652c3721d9  Gift to family member\n",
      "99976  b97dbc15-63ed-4f5b-8a05-facbb3745af2  Gift to family member\n",
      "99987  49f879a9-d54c-4567-a88e-13d02f0777bf  Gift to family member\n",
      "99995  ea7e0cb2-fadb-496c-962b-7e54a5cfa1bc  Gift to family member\n",
      "99997  23574238-9739-4af4-a823-5b699812db4d  Gift to family member\n",
      "\n",
      "[6398 rows x 2 columns]\n"
     ]
    }
   ],
   "execution_count": 103
  },
  {
   "metadata": {},
   "cell_type": "markdown",
   "source": "Regler för avvikande transaktioner",
   "id": "10a1a12e1d648a52"
  },
  {
   "metadata": {
    "ExecuteTime": {
     "end_time": "2025-05-23T14:39:45.987679Z",
     "start_time": "2025-05-23T14:39:45.908061Z"
    }
   },
   "cell_type": "code",
   "source": [
    "df[\"avg_amount\"] = df.groupby(\"sender_account\")[\"amount\"].transform(\"mean\") #Varje rad får sitt kontospecifika snitt\n",
    "\n",
    "# Flagga stora transaktioner: Mer än 2x snittet (100% högre)\n",
    "df[\"flag_large_tx\"] = df[\"amount\"] > (df[\"avg_amount\"] * 2)\n",
    "\n",
    "# Flagga små transaktioner: Mindre än 10% av snittet (90% lägre)\n",
    "df[\"flag_small_tx\"] = df[\"amount\"] < (df[\"avg_amount\"] * 0.1)\n"
   ],
   "id": "13740b6d9faf74f7",
   "outputs": [],
   "execution_count": 119
  },
  {
   "metadata": {},
   "cell_type": "markdown",
   "source": "test bara",
   "id": "6d02811ea1f42c02"
  },
  {
   "metadata": {
    "ExecuteTime": {
     "end_time": "2025-05-23T14:39:47.629639Z",
     "start_time": "2025-05-23T14:39:47.618294Z"
    }
   },
   "cell_type": "code",
   "source": "print(df[\"flag_large_tx\"])",
   "id": "a7f933f215b35112",
   "outputs": [
    {
     "name": "stdout",
     "output_type": "stream",
     "text": [
      "0    False\n",
      "1    False\n",
      "2    False\n",
      "3    False\n",
      "4    False\n",
      "5    False\n",
      "6    False\n",
      "Name: flag_large_tx, dtype: bool\n"
     ]
    }
   ],
   "execution_count": 120
  },
  {
   "metadata": {},
   "cell_type": "markdown",
   "source": [
    "Generalisering av kod för att upptäcka anomali i transaktioner\n",
    "\n"
   ],
   "id": "1f63c02a37d49ccf"
  },
  {
   "metadata": {
    "ExecuteTime": {
     "end_time": "2025-05-23T08:37:27.028183Z",
     "start_time": "2025-05-23T08:37:24.471070Z"
    }
   },
   "cell_type": "code",
   "source": [
    "from sklearn.ensemble import IsolationForest\n",
    "import pandas as pd\n",
    "\n",
    "# Skapa DataFrame (exempeldata)\n",
    "df = pd.DataFrame({\n",
    "    \"transaction_id\": [1, 2, 3, 4, 5, 6, 7],\n",
    "    \"amount\": [100, 200, 150, 5000, 180, 190, 50000],  # Ovanligt höga belopp\n",
    "    \"sender_account\": [\"A\", \"A\", \"B\", \"C\", \"B\", \"B\", \"C\"]\n",
    "})\n",
    "\n",
    "# Träningsdata: Vi analyserar transaktionsbeloppet\n",
    "model = IsolationForest(contamination=0.05, random_state=42)  # Anpassar sig till ca 5% avvikande transaktioner\n",
    "df[\"flag_anomaly\"] = model.fit_predict(df[[\"amount\"]])\n",
    "\n",
    "# Markera anomalier (de får -1 i modellen)\n",
    "df[\"flag_anomaly\"] = df[\"flag_anomaly\"] == -1\n",
    "\n",
    "print(df[[\"transaction_id\", \"amount\", \"flag_anomaly\"]])\n"
   ],
   "id": "c102d55b27586227",
   "outputs": [
    {
     "name": "stdout",
     "output_type": "stream",
     "text": [
      "   transaction_id  amount  flag_anomaly\n",
      "0               1     100         False\n",
      "1               2     200         False\n",
      "2               3     150         False\n",
      "3               4    5000         False\n",
      "4               5     180         False\n",
      "5               6     190         False\n",
      "6               7   50000          True\n"
     ]
    }
   ],
   "execution_count": 113
  },
  {
   "metadata": {
    "ExecuteTime": {
     "end_time": "2025-05-23T09:04:54.450025Z",
     "start_time": "2025-05-23T09:04:54.370197Z"
    }
   },
   "cell_type": "code",
   "source": [
    "# Räkna antal anomalier (flag_anomaly = True)\n",
    "num_anomalies = df[\"flag_anomaly\"].sum()\n",
    "\n",
    "print(f\"Antal flaggade anomalier: {num_anomalies}\")\n"
   ],
   "id": "8cdb19fa403c611a",
   "outputs": [
    {
     "name": "stdout",
     "output_type": "stream",
     "text": [
      "Antal flaggade anomalier: 1\n"
     ]
    }
   ],
   "execution_count": 114
  }
 ],
 "metadata": {
  "kernelspec": {
   "display_name": "Python 3",
   "language": "python",
   "name": "python3"
  },
  "language_info": {
   "codemirror_mode": {
    "name": "ipython",
    "version": 2
   },
   "file_extension": ".py",
   "mimetype": "text/x-python",
   "name": "python",
   "nbconvert_exporter": "python",
   "pygments_lexer": "ipython2",
   "version": "2.7.6"
  }
 },
 "nbformat": 4,
 "nbformat_minor": 5
}
