{
 "cells": [
  {
   "cell_type": "code",
   "execution_count": null,
   "id": "initial_id",
   "metadata": {
    "collapsed": true
   },
   "outputs": [],
   "source": [
    "import pandas as pd\n",
    "\n",
    "print(\"Hello World\")\n",
    "df = pd.read_csv(\"transactions.csv\")\n",
    "print(a)\n",
    "low_memory = False\n",
    "df.head()\n",
    "df.dtypes\n",
    "df.dtypes\n",
    "# Visar hur många tomma värden det finns i varje kolumn\n",
    "df.isnull().sum()\n",
    "# antal transaktioner med negativ summa \n",
    "df[df['amount'] < 0]\n",
    "\n",
    "# Negativa värden är inte alltid fel (t.ex. uttag), men det kan vara bra att flagga.\n",
    "# Vi behöver konvertera kolumnen amount till tal (float), men samtidigt vara försiktiga om det finns skräp i datan (t.ex. ord eller tomma rader).\n",
    "\n",
    "df['amount'] = pd.to_numeric(df['amount'], errors='coerce')\n",
    "#  Kolla unika värden i några kolumner (t.ex. land)\n",
    "df['receiver_country'].value_counts()\n",
    "\n",
    "# Här kan vi se t.ex. om något land heter \"Swede\" i stället för \"Sweden\" – alltså stavfel i data.\n",
    "\n",
    "\n",
    "df.columns\n",
    "# Denna kod Konverteras till datumformat\n",
    "df['timestamp'] = pd.to_datetime(df['timestamp'], errors='coerce')\n",
    "# skapar en kolumn med bara datum och tid \n",
    "df['date_only'] = df['timestamp'].dt.date\n",
    "# Räknar antal transaktioner per dag \n",
    "transactions_per_day = df.groupby('date_only').size()\n",
    "import matplotlib.pyplot as plt\n",
    "\n",
    "transactions_per_day.plot(kind='line', figsize=(12, 5), title='Antal transaktioner per dag')\n",
    "plt.xlabel(\"Datum\")\n",
    "plt.ylabel(\"Antal transaktioner\")\n",
    "plt.grid(True)\n",
    "plt.tight_layout()\n",
    "plt.show()\n",
    "# filtrera mellan 2024 & 2026 \n",
    "start_date = pd.to_datetime(\"2023-01-01\")\n",
    "end_date = pd.to_datetime(\"2023-06-01\")\n",
    "\n",
    "df_filtered = df[(df['timestamp'] > start_date) & (df['timestamp'] > end_date)]\n",
    "transactions_per_day = df_filtered.groupby('date_only').size()\n",
    "transactions_per_day.plot(kind='line', figsize=(15, 5), title='Antal transaktioner per dag')\n",
    "plt.xlabel(\"Datum\")\n",
    "plt.ylabel(\"Antal transaktioner\")\n",
    "plt.grid(True)\n",
    "plt.tight_layout()\n",
    "plt.show()\n",
    "import seaborn as sns\n",
    "import matplotlib.pyplot as plt\n",
    "\n",
    "plt.figure(figsize=(10, 6))\n",
    "sns.barplot(x=top_countries.values, y=top_countries.index, palette='viridis')\n",
    "\n",
    "plt.title(\"Topp 10 mottagarländer (2024–2026)\")\n",
    "plt.xlabel(\"Antal transaktioner\")\n",
    "plt.ylabel(\"Land\")\n",
    "plt.tight_layout()\n",
    "plt.show()"
   ]
  }
 ],
 "metadata": {
  "kernelspec": {
   "display_name": "Python 3",
   "language": "python",
   "name": "python3"
  },
  "language_info": {
   "codemirror_mode": {
    "name": "ipython",
    "version": 2
   },
   "file_extension": ".py",
   "mimetype": "text/x-python",
   "name": "python",
   "nbconvert_exporter": "python",
   "pygments_lexer": "ipython2",
   "version": "2.7.6"
  }
 },
 "nbformat": 4,
 "nbformat_minor": 5
}
