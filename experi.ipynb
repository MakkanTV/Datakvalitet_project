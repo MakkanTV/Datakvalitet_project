{
 "cells": [
  {
   "metadata": {
    "ExecuteTime": {
     "end_time": "2025-05-21T08:47:07.757926Z",
     "start_time": "2025-05-21T08:47:06.846350Z"
    }
   },
   "cell_type": "code",
   "source": [
    "def load_data(file_path):\n",
    "    \"\"\"Läser in en CSV-fil och returnerar en DataFrame\"\"\"\n",
    "    import pandas as pd\n",
    "    import os\n",
    "\n",
    "    if not os.path.exists(file_path):\n",
    "        raise FileNotFoundError(f\"Filen {file_path} hittades inte!\")\n",
    "\n",
    "    df = pd.read_csv(file_path, low_memory=False)\n",
    "    print(\"Kolumnnamn:\", df.columns.tolist())\n",
    "    print(\"\\nDatatyper:\\n\", df.dtypes)\n",
    "\n",
    "    return df\n",
    "\n",
    "# Kör funktionen korrekt med en riktig parameter\n",
    "df = load_data(r\"C:\\Users\\milan\\PycharmProjects\\Datakvalitet_project\\transactions.csv\")\n"
   ],
   "id": "3b99a65d91b33d50",
   "outputs": [
    {
     "name": "stdout",
     "output_type": "stream",
     "text": [
      "Kolumnnamn: ['transaction_id', 'timestamp', 'amount', 'currency', 'sender_account', 'receiver_account', 'sender_country', 'sender_municipality', 'receiver_country', 'receiver_municipality', 'transaction_type', 'notes']\n",
      "\n",
      "Datatyper:\n",
      " transaction_id           object\n",
      "timestamp                object\n",
      "amount                   object\n",
      "currency                 object\n",
      "sender_account           object\n",
      "receiver_account         object\n",
      "sender_country           object\n",
      "sender_municipality      object\n",
      "receiver_country         object\n",
      "receiver_municipality    object\n",
      "transaction_type         object\n",
      "notes                    object\n",
      "dtype: object\n"
     ]
    }
   ],
   "execution_count": 5
  },
  {
   "metadata": {
    "ExecuteTime": {
     "end_time": "2025-05-21T09:10:13.322645Z",
     "start_time": "2025-05-21T09:10:13.147912Z"
    }
   },
   "cell_type": "code",
   "source": [
    "for col in df.columns:\n",
    "    print(f\"{col}: Datatyp = {df[col].dtype}, Saknade värden = {df[col].isnull().sum()}\")\n"
   ],
   "id": "cbfb2856392f01a9",
   "outputs": [
    {
     "name": "stdout",
     "output_type": "stream",
     "text": [
      "transaction_id: Datatyp = object, Saknade värden = 0\n",
      "timestamp: Datatyp = object, Saknade värden = 0\n",
      "amount: Datatyp = object, Saknade värden = 0\n",
      "currency: Datatyp = object, Saknade värden = 0\n",
      "sender_account: Datatyp = object, Saknade värden = 0\n",
      "receiver_account: Datatyp = object, Saknade värden = 0\n",
      "sender_country: Datatyp = object, Saknade värden = 500\n",
      "sender_municipality: Datatyp = object, Saknade värden = 500\n",
      "receiver_country: Datatyp = object, Saknade värden = 500\n",
      "receiver_municipality: Datatyp = object, Saknade värden = 500\n",
      "transaction_type: Datatyp = object, Saknade värden = 0\n",
      "notes: Datatyp = object, Saknade värden = 9982\n"
     ]
    }
   ],
   "execution_count": 6
  },
  {
   "metadata": {
    "ExecuteTime": {
     "end_time": "2025-05-21T09:21:46.634921Z",
     "start_time": "2025-05-21T09:21:46.620378Z"
    }
   },
   "cell_type": "code",
   "source": [
    "import pandas as pd\n",
    "\n",
    "def identify_datetime_columns(df):\n",
    "    \"\"\"Identifierar kolumner som potentiellt är datum\"\"\"\n",
    "    possible_date_cols = [col for col in df.columns if \"date\" in col.lower() or \"timestamp\" in col.lower()]\n",
    "    print(\"Identifierade datumkolumner:\", possible_date_cols)\n",
    "    return possible_date_cols\n",
    "\n",
    "# Testa på din DataFrame\n",
    "date_columns = identify_datetime_columns(df)\n"
   ],
   "id": "f069ba6e27867990",
   "outputs": [
    {
     "name": "stdout",
     "output_type": "stream",
     "text": [
      "Identifierade datumkolumner: ['timestamp']\n"
     ]
    }
   ],
   "execution_count": 7
  },
  {
   "metadata": {
    "ExecuteTime": {
     "end_time": "2025-05-21T09:30:17.155537Z",
     "start_time": "2025-05-21T09:30:17.068775Z"
    }
   },
   "cell_type": "code",
   "source": [
    "for col in date_columns:\n",
    "    df[col] = pd.to_datetime(df[col], errors=\"coerce\")\n"
   ],
   "id": "c5dd41c8bfae4902",
   "outputs": [],
   "execution_count": 8
  },
  {
   "metadata": {
    "ExecuteTime": {
     "end_time": "2025-05-21T09:41:16.817522Z",
     "start_time": "2025-05-21T09:41:16.745328Z"
    }
   },
   "cell_type": "code",
   "source": [
    "print(df[date_columns].info())  # Se om datatyperna är datetime\n",
    "print(df[date_columns].head())  # Kolla några rader för att se formatet\n"
   ],
   "id": "c62ad3c85b89983d",
   "outputs": [
    {
     "name": "stdout",
     "output_type": "stream",
     "text": [
      "<class 'pandas.core.frame.DataFrame'>\n",
      "RangeIndex: 100000 entries, 0 to 99999\n",
      "Data columns (total 1 columns):\n",
      " #   Column     Non-Null Count  Dtype         \n",
      "---  ------     --------------  -----         \n",
      " 0   timestamp  99984 non-null  datetime64[ns]\n",
      "dtypes: datetime64[ns](1)\n",
      "memory usage: 781.4 KB\n",
      "None\n",
      "            timestamp\n",
      "0 2025-03-06 12:04:00\n",
      "1 2025-03-31 01:37:00\n",
      "2 2025-04-29 22:58:00\n",
      "3 2025-02-27 14:52:00\n",
      "4 2025-01-03 22:29:00\n"
     ]
    }
   ],
   "execution_count": 9
  },
  {
   "metadata": {
    "ExecuteTime": {
     "end_time": "2025-05-21T09:44:25.164172Z",
     "start_time": "2025-05-21T09:44:25.127489Z"
    }
   },
   "cell_type": "code",
   "source": "print(df[df[\"timestamp\"].isna()])  # Visa rader där timestamp är NaT\n",
   "id": "f0b107823c15158c",
   "outputs": [
    {
     "name": "stdout",
     "output_type": "stream",
     "text": [
      "                            transaction_id timestamp    amount currency  \\\n",
      "372   e13b1664-c549-4f92-895a-1f941dd6d82e       NaT  12881.63      SEK   \n",
      "374   7bfcf599-e449-4e63-a3f9-05631511e58a       NaT  20223.17      SEK   \n",
      "432   b75a64f1-d111-4261-9df0-53f2c38e2828       NaT  45069.28      SEK   \n",
      "566   bc91f1d3-e0b0-471b-844f-7e14941d3236       NaT   9908.07      SEK   \n",
      "658   e4ec0cfc-55e8-4ca1-b3f4-0948a1b8e997       NaT   3080.18      SEK   \n",
      "661   13638365-972b-4fd8-9518-f27557a7e1cd       NaT  34157.12      SEK   \n",
      "761   fda4c622-1044-49aa-bc41-b44bdd50bc9c       NaT   2192.15      SEK   \n",
      "814   bc23bd09-5b6a-4ebe-95ae-7dad0cde315a       NaT  21899.83      SEK   \n",
      "817   9687e5ce-f8e0-4afa-ac0c-54d8c6ef457f       NaT  36969.56      SEK   \n",
      "821   aee31e4c-e8c1-4fa5-b8bf-53815ab51b55       NaT   39794.0      SEK   \n",
      "866   f46345d0-c1f8-46d7-ae78-47c4a6b52fee       NaT   9573.92      SEK   \n",
      "876   2f48c8d5-cad7-48b0-8f8c-2f1324911dfd       NaT  34373.92      SEK   \n",
      "884   776cbccf-2d92-4e83-a702-6b6261fa7de0       NaT  46318.06      SEK   \n",
      "911   2452bd7a-a1b4-425d-a9e1-a6299edbc458       NaT  31961.53      SEK   \n",
      "913   bf0e480f-3993-4f19-99c3-8e223bd1cada       NaT   6091.76      SEK   \n",
      "1428  99ca438b-d55e-4ba4-b6fc-c353cc5d810b       NaT  22074.32      SEK   \n",
      "\n",
      "                sender_account          receiver_account sender_country  \\\n",
      "372   SE8902IOSH72112913547339  SE8902EXDO77351409949930         Sweden   \n",
      "374   SE8902UEXU77157980119965  SE8902EMWA07310860593299         Sweden   \n",
      "432   SE8902PBIW30011757227628  SE8902SZWO66860675966705         Sweden   \n",
      "566   SE8902HEXR67420014606110  SE8902PBIW30011757227628         Sweden   \n",
      "658   SE8902RXEO54698137995629  SE8902PXQH61449282091685         Sweden   \n",
      "661   SE8902XMWU73408358252236  SE8902HPKQ79721411987869            NaN   \n",
      "761   SE8902KSGF71738325166005  SE8902SWFR35893590471977         Sweden   \n",
      "814   SE8902GPFA36799720094528  SE8902AEOP68872744631879         Sweden   \n",
      "817   SE8902ZKDX10421013051508  SE8902ZQHA53957175041781         Sweden   \n",
      "821   SE8902FIYI65713456085419  SE8902RNER71700945656875         Sweden   \n",
      "866   SE8902NFSW96446848690649  SE8902IFPV72140679061770         Sweden   \n",
      "876   SE8902AEQJ97044224731438  SE8902FZSE04507369196975         Sweden   \n",
      "884   SE8902JZYF06547820263799  SE8902IBRL73514393853709         Sweden   \n",
      "911   SE8902IGFR09709190696891  SE8902GTCY42439402519574         Sweden   \n",
      "913   SE8902IILS20920256766703  SE8902WGYQ69186751021705         Sweden   \n",
      "1428  SE8902APWS33564004625903  SE8902MVZJ65066103207787         Sweden   \n",
      "\n",
      "     sender_municipality receiver_country receiver_municipality  \\\n",
      "372           Norrköping           Sweden            Trelleborg   \n",
      "374         Kristianstad           Sweden                 Luleå   \n",
      "432             Göteborg           Sweden               Lidingö   \n",
      "566           Karlskrona           Sweden              Göteborg   \n",
      "658            Sundsvall           Sweden             Uddevalla   \n",
      "661                Malmö           Sweden                 Luleå   \n",
      "761                 Lund           Sweden                  Umeå   \n",
      "814            Uddevalla           Sweden                 Borås   \n",
      "817            Jönköping           Sweden                Motala   \n",
      "821             Alingsås           Sweden             Linköping   \n",
      "866                Malmö           Sweden              Borlänge   \n",
      "876             Halmstad           Sweden             Sandviken   \n",
      "884              Lidingö           Sweden                 Luleå   \n",
      "911                  NaN           Sweden             Sandviken   \n",
      "913                Luleå           Sweden            Södertälje   \n",
      "1428             Lidingö           Sweden                 Falun   \n",
      "\n",
      "     transaction_type                      notes  \n",
      "372          incoming             Loan repayment  \n",
      "374          incoming             Loan repayment  \n",
      "432          incoming  Payment for invoice #3222  \n",
      "566          incoming              Rent transfer  \n",
      "658          incoming           Insurance payout  \n",
      "661          outgoing  Payment for invoice #8946  \n",
      "761          incoming               Utility bill  \n",
      "814          outgoing            Online purchase  \n",
      "817          incoming               Utility bill  \n",
      "821          outgoing            Mobile recharge  \n",
      "866          incoming                 Tax refund  \n",
      "876          outgoing  Payment for invoice #9893  \n",
      "884          incoming            Mobile recharge  \n",
      "911          incoming            Mobile recharge  \n",
      "913          incoming      Gift to family member  \n",
      "1428         incoming            Online purchase  \n"
     ]
    }
   ],
   "execution_count": 10
  },
  {
   "metadata": {
    "ExecuteTime": {
     "end_time": "2025-05-21T10:09:47.235711Z",
     "start_time": "2025-05-21T10:09:46.991451Z"
    }
   },
   "cell_type": "code",
   "source": [
    "# Lägg till en flagga för saknade timestamps\n",
    "df[\"is_missing_timestamp\"] = df[\"timestamp\"].isna()\n",
    "\n",
    "# Kontrollera resultatet\n",
    "print(df[[\"timestamp\", \"is_missing_timestamp\"]].head())\n"
   ],
   "id": "2ed36050fb0551a9",
   "outputs": [
    {
     "name": "stdout",
     "output_type": "stream",
     "text": [
      "            timestamp  is_missing_timestamp\n",
      "0 2025-03-06 12:04:00                 False\n",
      "1 2025-03-31 01:37:00                 False\n",
      "2 2025-04-29 22:58:00                 False\n",
      "3 2025-02-27 14:52:00                 False\n",
      "4 2025-01-03 22:29:00                 False\n"
     ]
    }
   ],
   "execution_count": 11
  },
  {
   "metadata": {
    "ExecuteTime": {
     "end_time": "2025-05-21T10:20:12.371771Z",
     "start_time": "2025-05-21T10:20:12.356794Z"
    }
   },
   "cell_type": "code",
   "source": [
    "import os\n",
    "print(os.getcwd())  # Visar den aktuella arbetsmappen\n"
   ],
   "id": "e331dfe2d72b5de5",
   "outputs": [
    {
     "name": "stdout",
     "output_type": "stream",
     "text": [
      "C:\\Users\\milan\\PycharmProjects\\Datakvalitet_project\n"
     ]
    }
   ],
   "execution_count": 12
  },
  {
   "metadata": {
    "ExecuteTime": {
     "end_time": "2025-05-22T06:35:16.371206Z",
     "start_time": "2025-05-22T06:35:15.764608Z"
    }
   },
   "cell_type": "code",
   "source": [
    "print(df.isnull().sum())  # Se hur många saknade värden varje kolumn har\n",
    "print(df.duplicated().sum())  # Kontrollera antal dubbletter\n",
    "print(df.describe(include=\"all\"))  # Statistisk analys av datasetet\n"
   ],
   "id": "17058569694b896",
   "outputs": [
    {
     "name": "stdout",
     "output_type": "stream",
     "text": [
      "transaction_id              0\n",
      "timestamp                  16\n",
      "amount                      0\n",
      "currency                    0\n",
      "sender_account              0\n",
      "receiver_account            0\n",
      "sender_country            500\n",
      "sender_municipality       500\n",
      "receiver_country          500\n",
      "receiver_municipality     500\n",
      "transaction_type            0\n",
      "notes                    9982\n",
      "is_missing_timestamp        0\n",
      "dtype: int64\n",
      "0\n",
      "                              transaction_id                      timestamp  \\\n",
      "count                                 100000                          99984   \n",
      "unique                                100000                            NaN   \n",
      "top     4fe6e9b8-8cb5-4187-8d36-9cb1682e234b                            NaN   \n",
      "freq                                       1                            NaN   \n",
      "mean                                     NaN  2025-03-06 04:12:27.486738432   \n",
      "min                                      NaN            2022-04-17 01:00:00   \n",
      "25%                                      NaN            2025-02-04 05:03:30   \n",
      "50%                                      NaN            2025-03-11 02:45:30   \n",
      "75%                                      NaN            2025-04-15 08:54:30   \n",
      "max                                      NaN            2026-05-16 04:25:00   \n",
      "\n",
      "        amount currency            sender_account          receiver_account  \\\n",
      "count   100000   100000                    100000                    100000   \n",
      "unique   98876       13                     43476                     48524   \n",
      "top     437.31      SEK  SE8902JWUP15793818606310  SE8902ALDV54212317929105   \n",
      "freq         3    80885                       253                        78   \n",
      "mean       NaN      NaN                       NaN                       NaN   \n",
      "min        NaN      NaN                       NaN                       NaN   \n",
      "25%        NaN      NaN                       NaN                       NaN   \n",
      "50%        NaN      NaN                       NaN                       NaN   \n",
      "75%        NaN      NaN                       NaN                       NaN   \n",
      "max        NaN      NaN                       NaN                       NaN   \n",
      "\n",
      "       sender_country sender_municipality receiver_country  \\\n",
      "count           99500               99500            99500   \n",
      "unique            244               13110              244   \n",
      "top            Sweden               Luleå           Sweden   \n",
      "freq            80473                1885            75391   \n",
      "mean              NaN                 NaN              NaN   \n",
      "min               NaN                 NaN              NaN   \n",
      "25%               NaN                 NaN              NaN   \n",
      "50%               NaN                 NaN              NaN   \n",
      "75%               NaN                 NaN              NaN   \n",
      "max               NaN                 NaN              NaN   \n",
      "\n",
      "       receiver_municipality transaction_type          notes  \\\n",
      "count                  99500           100000          90018   \n",
      "unique                 15923                2           4570   \n",
      "top                    Växjö         outgoing  Rent transfer   \n",
      "freq                    1750            50051           6567   \n",
      "mean                     NaN              NaN            NaN   \n",
      "min                      NaN              NaN            NaN   \n",
      "25%                      NaN              NaN            NaN   \n",
      "50%                      NaN              NaN            NaN   \n",
      "75%                      NaN              NaN            NaN   \n",
      "max                      NaN              NaN            NaN   \n",
      "\n",
      "       is_missing_timestamp  \n",
      "count                100000  \n",
      "unique                    2  \n",
      "top                   False  \n",
      "freq                  99984  \n",
      "mean                    NaN  \n",
      "min                     NaN  \n",
      "25%                     NaN  \n",
      "50%                     NaN  \n",
      "75%                     NaN  \n",
      "max                     NaN  \n"
     ]
    }
   ],
   "execution_count": 13
  },
  {
   "metadata": {
    "ExecuteTime": {
     "end_time": "2025-05-22T06:40:20.634988Z",
     "start_time": "2025-05-22T06:40:20.589061Z"
    }
   },
   "cell_type": "code",
   "source": "df[\"amount\"] = pd.to_numeric(df[\"amount\"], errors=\"coerce\")\n",
   "id": "ef16a55407fadee7",
   "outputs": [],
   "execution_count": 14
  },
  {
   "metadata": {
    "ExecuteTime": {
     "end_time": "2025-05-22T06:48:57.079631Z",
     "start_time": "2025-05-22T06:48:57.064178Z"
    }
   },
   "cell_type": "code",
   "source": "print(df.dtypes)  # Visar aktuella typer\n",
   "id": "ec630059da8c8458",
   "outputs": [
    {
     "name": "stdout",
     "output_type": "stream",
     "text": [
      "transaction_id                   object\n",
      "timestamp                datetime64[ns]\n",
      "amount                          float64\n",
      "currency                         object\n",
      "sender_account                   object\n",
      "receiver_account                 object\n",
      "sender_country                   object\n",
      "sender_municipality              object\n",
      "receiver_country                 object\n",
      "receiver_municipality            object\n",
      "transaction_type                 object\n",
      "notes                            object\n",
      "is_missing_timestamp               bool\n",
      "dtype: object\n"
     ]
    }
   ],
   "execution_count": 15
  },
  {
   "metadata": {
    "ExecuteTime": {
     "end_time": "2025-05-22T06:52:17.754510Z",
     "start_time": "2025-05-22T06:52:17.706620Z"
    }
   },
   "cell_type": "code",
   "source": "df.dtypes\n",
   "id": "1fb327b0fdf0aefc",
   "outputs": [
    {
     "data": {
      "text/plain": [
       "transaction_id                   object\n",
       "timestamp                datetime64[ns]\n",
       "amount                          float64\n",
       "currency                         object\n",
       "sender_account                   object\n",
       "receiver_account                 object\n",
       "sender_country                   object\n",
       "sender_municipality              object\n",
       "receiver_country                 object\n",
       "receiver_municipality            object\n",
       "transaction_type                 object\n",
       "notes                            object\n",
       "is_missing_timestamp               bool\n",
       "dtype: object"
      ]
     },
     "execution_count": 16,
     "metadata": {},
     "output_type": "execute_result"
    }
   ],
   "execution_count": 16
  }
 ],
 "metadata": {
  "kernelspec": {
   "display_name": "Python 3",
   "language": "python",
   "name": "python3"
  },
  "language_info": {
   "codemirror_mode": {
    "name": "ipython",
    "version": 2
   },
   "file_extension": ".py",
   "mimetype": "text/x-python",
   "name": "python",
   "nbconvert_exporter": "python",
   "pygments_lexer": "ipython2",
   "version": "2.7.6"
  }
 },
 "nbformat": 4,
 "nbformat_minor": 5
}
