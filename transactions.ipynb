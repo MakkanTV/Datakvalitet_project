{
 "cells": [
  {
   "metadata": {
    "ExecuteTime": {
     "end_time": "2025-05-20T07:03:16.916242Z",
     "start_time": "2025-05-20T07:03:15.323173Z"
    }
   },
   "cell_type": "code",
   "source": "import pandas as pd",
   "id": "3b47ae49d5a18359",
   "outputs": [],
   "execution_count": 5
  },
  {
   "cell_type": "code",
   "id": "initial_id",
   "metadata": {
    "collapsed": true,
    "ExecuteTime": {
     "end_time": "2025-05-20T07:03:19.633276Z",
     "start_time": "2025-05-20T07:03:19.629919Z"
    }
   },
   "source": "print(\"Hello World\")",
   "outputs": [
    {
     "name": "stdout",
     "output_type": "stream",
     "text": [
      "Hello World\n"
     ]
    }
   ],
   "execution_count": 6
  },
  {
   "metadata": {
    "ExecuteTime": {
     "end_time": "2025-05-20T07:28:49.230019Z",
     "start_time": "2025-05-20T07:28:49.013359Z"
    }
   },
   "cell_type": "code",
   "source": [
    "a = pd.read_csv(\"transactions.csv\")\n",
    "print(a)\n",
    "low_memory=False"
   ],
   "id": "50b2e1a286681425",
   "outputs": [
    {
     "name": "stdout",
     "output_type": "stream",
     "text": [
      "                             transaction_id            timestamp     amount  \\\n",
      "0      f2f3b0fc-b7d7-4d85-b682-cbf07ef77c1a  2025-03-06 12:04:00    7746.03   \n",
      "1      feccbd1e-7752-4452-a44a-901510252561  2025-03-31 01:37:00   45193.04   \n",
      "2      bc6a480c-e2e1-434d-830c-1cda3f913038  2025-04-29 22:58:00   33029.71   \n",
      "3      b832aa2c-77f3-4c4f-9697-9776b8d74abb  2025-02-27 14:52:00  35994 .61   \n",
      "4      0d32c6ef-508e-4f5d-bc64-341a0a9f498d  2025-01-03 22:29:00   32229.73   \n",
      "...                                     ...                  ...        ...   \n",
      "99995  ea7e0cb2-fadb-496c-962b-7e54a5cfa1bc  2025-02-03 17:00:00     146.04   \n",
      "99996  4271c3c0-d3be-49f5-8154-ee60e2a1e582  2025-01-07 14:00:00      56.98   \n",
      "99997  23574238-9739-4af4-a823-5b699812db4d  2025-05-11 13:00:00     128.34   \n",
      "99998  38e785ff-e460-419e-af07-595f5c67aaf6  2025-02-02 13:00:00     149.13   \n",
      "99999  94e5a276-d5ce-40f6-b17c-97885b455bbd  2025-05-09 15:00:00      41.77   \n",
      "\n",
      "      currency            sender_account          receiver_account  \\\n",
      "0          SEK  SE8902EWFT80524424320740  SE8902ZUIH32054423564254   \n",
      "1          SEK  SE8902GTSI58472323675409  SE8902ERNA19462716907689   \n",
      "2          SEK  SE8902SEZT63377163386089  SE8902LOLQ30361773270969   \n",
      "3          SEK  SE8902MGEE43594824630478  SE8902XIVG18316797897983   \n",
      "4          SEK  SE8902SZWO66860675966705  SE8902SUUS97732018069804   \n",
      "...        ...                       ...                       ...   \n",
      "99995      USD    GB39XHRG15445191862019  SE8902AQYT55466061009593   \n",
      "99996      USD    GB97OHYP64183530899251  SE8902AQYT55466061009593   \n",
      "99997      USD    GB68PWPH34390331224741  SE8902AQYT55466061009593   \n",
      "99998      USD    GB30NDUZ96025046626638  SE8902AQYT55466061009593   \n",
      "99999      USD    GB64JUMJ42347315082570  SE8902AQYT55466061009593   \n",
      "\n",
      "      sender_country sender_municipality receiver_country  \\\n",
      "0             Sweden          Karlskrona           Sweden   \n",
      "1             Sweden               Piteå           Sweden   \n",
      "2             Sweden           Östersund           Sweden   \n",
      "3             Sweden            Karlstad           Sweden   \n",
      "4             Sweden          Skellefteå           Sweden   \n",
      "...              ...                 ...              ...   \n",
      "99995     Mauritania        Jacksonville           Sweden   \n",
      "99996         Guinea         Waltersport           Sweden   \n",
      "99997        Tokelau           Davidfurt           Sweden   \n",
      "99998       Bulgaria     West Andrewside           Sweden   \n",
      "99999         Latvia        Crawfordfort           Sweden   \n",
      "\n",
      "      receiver_municipality transaction_type                  notes  \n",
      "0                Eskilstuna         outgoing        Online purchase  \n",
      "1                Norrköping         outgoing             Tax refund  \n",
      "2                 Karlskoga         incoming             Tax refund  \n",
      "3               Helsingborg         incoming                    NaN  \n",
      "4                     Falun         outgoing             Tax refund  \n",
      "...                     ...              ...                    ...  \n",
      "99995              Nyköping         outgoing  Gift to family member  \n",
      "99996            Skellefteå         incoming                    NaN  \n",
      "99997                 Luleå         incoming  Gift to family member  \n",
      "99998            Skellefteå         outgoing         Loan repayment  \n",
      "99999               Varberg         outgoing                    NaN  \n",
      "\n",
      "[100000 rows x 12 columns]\n"
     ]
    },
    {
     "name": "stderr",
     "output_type": "stream",
     "text": [
      "C:\\Users\\Max\\AppData\\Local\\Temp\\ipykernel_7636\\994900515.py:1: DtypeWarning: Columns (2) have mixed types. Specify dtype option on import or set low_memory=False.\n",
      "  a = pd.read_csv(\"transactions.csv\")\n"
     ]
    }
   ],
   "execution_count": 8
  }
 ],
 "metadata": {
  "kernelspec": {
   "display_name": "Python 3",
   "language": "python",
   "name": "python3"
  },
  "language_info": {
   "codemirror_mode": {
    "name": "ipython",
    "version": 2
   },
   "file_extension": ".py",
   "mimetype": "text/x-python",
   "name": "python",
   "nbconvert_exporter": "python",
   "pygments_lexer": "ipython2",
   "version": "2.7.6"
  }
 },
 "nbformat": 4,
 "nbformat_minor": 5
}
