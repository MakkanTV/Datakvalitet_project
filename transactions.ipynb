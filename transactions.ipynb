{
 "cells": [
  {
   "metadata": {
    "ExecuteTime": {
     "end_time": "2025-05-23T11:22:52.640531Z",
     "start_time": "2025-05-23T11:22:52.637510Z"
    }
   },
   "cell_type": "code",
   "source": [
    "import pandas as pd\n",
    "\n"
   ],
   "id": "3b47ae49d5a18359",
   "outputs": [],
   "execution_count": 8
  },
  {
   "cell_type": "code",
   "id": "initial_id",
   "metadata": {
    "collapsed": true,
    "ExecuteTime": {
     "end_time": "2025-05-23T11:22:54.329919Z",
     "start_time": "2025-05-23T11:22:54.327024Z"
    }
   },
   "source": "print(\"Hello World\")",
   "outputs": [
    {
     "name": "stdout",
     "output_type": "stream",
     "text": [
      "Hello World\n"
     ]
    }
   ],
   "execution_count": 9
  },
  {
   "metadata": {
    "ExecuteTime": {
     "end_time": "2025-05-23T11:22:55.854490Z",
     "start_time": "2025-05-23T11:22:55.571860Z"
    }
   },
   "cell_type": "code",
   "source": [
    "df = pd.read_csv(\"transactions.csv\")\n",
    "low_memory=False\n",
    "df.isnull().sum()"
   ],
   "id": "50b2e1a286681425",
   "outputs": [
    {
     "name": "stderr",
     "output_type": "stream",
     "text": [
      "C:\\Users\\Max\\AppData\\Local\\Temp\\ipykernel_11400\\522436634.py:1: DtypeWarning: Columns (2) have mixed types. Specify dtype option on import or set low_memory=False.\n",
      "  df = pd.read_csv(\"transactions.csv\")\n"
     ]
    },
    {
     "data": {
      "text/plain": [
       "transaction_id              0\n",
       "timestamp                   0\n",
       "amount                      0\n",
       "currency                    0\n",
       "sender_account              0\n",
       "receiver_account            0\n",
       "sender_country            500\n",
       "sender_municipality       500\n",
       "receiver_country          500\n",
       "receiver_municipality     500\n",
       "transaction_type            0\n",
       "notes                    9982\n",
       "dtype: int64"
      ]
     },
     "execution_count": 10,
     "metadata": {},
     "output_type": "execute_result"
    }
   ],
   "execution_count": 10
  },
  {
   "metadata": {
    "ExecuteTime": {
     "end_time": "2025-05-23T11:23:00.519194Z",
     "start_time": "2025-05-23T11:23:00.425597Z"
    }
   },
   "cell_type": "code",
   "source": "print(df.duplicated())",
   "id": "36547b6954867883",
   "outputs": [
    {
     "name": "stdout",
     "output_type": "stream",
     "text": [
      "0        False\n",
      "1        False\n",
      "2        False\n",
      "3        False\n",
      "4        False\n",
      "         ...  \n",
      "99995    False\n",
      "99996    False\n",
      "99997    False\n",
      "99998    False\n",
      "99999    False\n",
      "Length: 100000, dtype: bool\n"
     ]
    }
   ],
   "execution_count": 11
  },
  {
   "metadata": {
    "ExecuteTime": {
     "end_time": "2025-05-23T11:23:03.163686Z",
     "start_time": "2025-05-23T11:23:03.059660Z"
    }
   },
   "cell_type": "code",
   "source": "new_df = df.drop_duplicates(inplace = True)",
   "id": "ed107fe92f436a15",
   "outputs": [],
   "execution_count": 12
  },
  {
   "metadata": {
    "ExecuteTime": {
     "end_time": "2025-05-21T15:09:38.109984Z",
     "start_time": "2025-05-21T15:09:38.106317Z"
    }
   },
   "cell_type": "code",
   "source": [
    "def clean_amount(value):\n",
    "    if pd.isna(value):\n",
    "        return None\n",
    "\n",
    "    value = str(value).replace(\" \", \"\").replace(\",\", \".\")\n",
    "    try:\n",
    "        return float(value)\n",
    "    except ValueError:\n",
    "        return None"
   ],
   "id": "48901caddeb844c4",
   "outputs": [],
   "execution_count": 23
  },
  {
   "metadata": {
    "ExecuteTime": {
     "end_time": "2025-05-23T11:23:08.144100Z",
     "start_time": "2025-05-23T11:23:08.126086Z"
    }
   },
   "cell_type": "code",
   "source": "df[\"amount\"] = df[\"amount\"].apply(clean_amount)",
   "id": "7c379066eab2604a",
   "outputs": [
    {
     "ename": "NameError",
     "evalue": "name 'clean_amount' is not defined",
     "output_type": "error",
     "traceback": [
      "\u001B[31m---------------------------------------------------------------------------\u001B[39m",
      "\u001B[31mNameError\u001B[39m                                 Traceback (most recent call last)",
      "\u001B[36mCell\u001B[39m\u001B[36m \u001B[39m\u001B[32mIn[13]\u001B[39m\u001B[32m, line 1\u001B[39m\n\u001B[32m----> \u001B[39m\u001B[32m1\u001B[39m df[\u001B[33m\"\u001B[39m\u001B[33mamount\u001B[39m\u001B[33m\"\u001B[39m] = df[\u001B[33m\"\u001B[39m\u001B[33mamount\u001B[39m\u001B[33m\"\u001B[39m].apply(\u001B[43mclean_amount\u001B[49m)\n",
      "\u001B[31mNameError\u001B[39m: name 'clean_amount' is not defined"
     ]
    }
   ],
   "execution_count": 13
  },
  {
   "metadata": {
    "ExecuteTime": {
     "end_time": "2025-05-23T11:23:13.465777Z",
     "start_time": "2025-05-23T11:23:13.261982Z"
    }
   },
   "cell_type": "code",
   "source": [
    "high_amount = df[df[\"amount\"] > 100000]\n",
    "print(high_amount)"
   ],
   "id": "7b213b1cfde745a0",
   "outputs": [
    {
     "ename": "TypeError",
     "evalue": "'>' not supported between instances of 'str' and 'int'",
     "output_type": "error",
     "traceback": [
      "\u001B[31m---------------------------------------------------------------------------\u001B[39m",
      "\u001B[31mTypeError\u001B[39m                                 Traceback (most recent call last)",
      "\u001B[36mCell\u001B[39m\u001B[36m \u001B[39m\u001B[32mIn[14]\u001B[39m\u001B[32m, line 1\u001B[39m\n\u001B[32m----> \u001B[39m\u001B[32m1\u001B[39m high_amount = df[\u001B[43mdf\u001B[49m\u001B[43m[\u001B[49m\u001B[33;43m\"\u001B[39;49m\u001B[33;43mamount\u001B[39;49m\u001B[33;43m\"\u001B[39;49m\u001B[43m]\u001B[49m\u001B[43m \u001B[49m\u001B[43m>\u001B[49m\u001B[43m \u001B[49m\u001B[32;43m100000\u001B[39;49m]\n\u001B[32m      2\u001B[39m \u001B[38;5;28mprint\u001B[39m(high_amount)\n",
      "\u001B[36mFile \u001B[39m\u001B[32m~\\PycharmProjects\\Bank_project\\.venv\\Lib\\site-packages\\pandas\\core\\ops\\common.py:76\u001B[39m, in \u001B[36m_unpack_zerodim_and_defer.<locals>.new_method\u001B[39m\u001B[34m(self, other)\u001B[39m\n\u001B[32m     72\u001B[39m             \u001B[38;5;28;01mreturn\u001B[39;00m \u001B[38;5;28mNotImplemented\u001B[39m\n\u001B[32m     74\u001B[39m other = item_from_zerodim(other)\n\u001B[32m---> \u001B[39m\u001B[32m76\u001B[39m \u001B[38;5;28;01mreturn\u001B[39;00m \u001B[43mmethod\u001B[49m\u001B[43m(\u001B[49m\u001B[38;5;28;43mself\u001B[39;49m\u001B[43m,\u001B[49m\u001B[43m \u001B[49m\u001B[43mother\u001B[49m\u001B[43m)\u001B[49m\n",
      "\u001B[36mFile \u001B[39m\u001B[32m~\\PycharmProjects\\Bank_project\\.venv\\Lib\\site-packages\\pandas\\core\\arraylike.py:56\u001B[39m, in \u001B[36mOpsMixin.__gt__\u001B[39m\u001B[34m(self, other)\u001B[39m\n\u001B[32m     54\u001B[39m \u001B[38;5;129m@unpack_zerodim_and_defer\u001B[39m(\u001B[33m\"\u001B[39m\u001B[33m__gt__\u001B[39m\u001B[33m\"\u001B[39m)\n\u001B[32m     55\u001B[39m \u001B[38;5;28;01mdef\u001B[39;00m\u001B[38;5;250m \u001B[39m\u001B[34m__gt__\u001B[39m(\u001B[38;5;28mself\u001B[39m, other):\n\u001B[32m---> \u001B[39m\u001B[32m56\u001B[39m     \u001B[38;5;28;01mreturn\u001B[39;00m \u001B[38;5;28;43mself\u001B[39;49m\u001B[43m.\u001B[49m\u001B[43m_cmp_method\u001B[49m\u001B[43m(\u001B[49m\u001B[43mother\u001B[49m\u001B[43m,\u001B[49m\u001B[43m \u001B[49m\u001B[43moperator\u001B[49m\u001B[43m.\u001B[49m\u001B[43mgt\u001B[49m\u001B[43m)\u001B[49m\n",
      "\u001B[36mFile \u001B[39m\u001B[32m~\\PycharmProjects\\Bank_project\\.venv\\Lib\\site-packages\\pandas\\core\\series.py:6119\u001B[39m, in \u001B[36mSeries._cmp_method\u001B[39m\u001B[34m(self, other, op)\u001B[39m\n\u001B[32m   6116\u001B[39m lvalues = \u001B[38;5;28mself\u001B[39m._values\n\u001B[32m   6117\u001B[39m rvalues = extract_array(other, extract_numpy=\u001B[38;5;28;01mTrue\u001B[39;00m, extract_range=\u001B[38;5;28;01mTrue\u001B[39;00m)\n\u001B[32m-> \u001B[39m\u001B[32m6119\u001B[39m res_values = \u001B[43mops\u001B[49m\u001B[43m.\u001B[49m\u001B[43mcomparison_op\u001B[49m\u001B[43m(\u001B[49m\u001B[43mlvalues\u001B[49m\u001B[43m,\u001B[49m\u001B[43m \u001B[49m\u001B[43mrvalues\u001B[49m\u001B[43m,\u001B[49m\u001B[43m \u001B[49m\u001B[43mop\u001B[49m\u001B[43m)\u001B[49m\n\u001B[32m   6121\u001B[39m \u001B[38;5;28;01mreturn\u001B[39;00m \u001B[38;5;28mself\u001B[39m._construct_result(res_values, name=res_name)\n",
      "\u001B[36mFile \u001B[39m\u001B[32m~\\PycharmProjects\\Bank_project\\.venv\\Lib\\site-packages\\pandas\\core\\ops\\array_ops.py:344\u001B[39m, in \u001B[36mcomparison_op\u001B[39m\u001B[34m(left, right, op)\u001B[39m\n\u001B[32m    341\u001B[39m     \u001B[38;5;28;01mreturn\u001B[39;00m invalid_comparison(lvalues, rvalues, op)\n\u001B[32m    343\u001B[39m \u001B[38;5;28;01melif\u001B[39;00m lvalues.dtype == \u001B[38;5;28mobject\u001B[39m \u001B[38;5;129;01mor\u001B[39;00m \u001B[38;5;28misinstance\u001B[39m(rvalues, \u001B[38;5;28mstr\u001B[39m):\n\u001B[32m--> \u001B[39m\u001B[32m344\u001B[39m     res_values = \u001B[43mcomp_method_OBJECT_ARRAY\u001B[49m\u001B[43m(\u001B[49m\u001B[43mop\u001B[49m\u001B[43m,\u001B[49m\u001B[43m \u001B[49m\u001B[43mlvalues\u001B[49m\u001B[43m,\u001B[49m\u001B[43m \u001B[49m\u001B[43mrvalues\u001B[49m\u001B[43m)\u001B[49m\n\u001B[32m    346\u001B[39m \u001B[38;5;28;01melse\u001B[39;00m:\n\u001B[32m    347\u001B[39m     res_values = _na_arithmetic_op(lvalues, rvalues, op, is_cmp=\u001B[38;5;28;01mTrue\u001B[39;00m)\n",
      "\u001B[36mFile \u001B[39m\u001B[32m~\\PycharmProjects\\Bank_project\\.venv\\Lib\\site-packages\\pandas\\core\\ops\\array_ops.py:129\u001B[39m, in \u001B[36mcomp_method_OBJECT_ARRAY\u001B[39m\u001B[34m(op, x, y)\u001B[39m\n\u001B[32m    127\u001B[39m     result = libops.vec_compare(x.ravel(), y.ravel(), op)\n\u001B[32m    128\u001B[39m \u001B[38;5;28;01melse\u001B[39;00m:\n\u001B[32m--> \u001B[39m\u001B[32m129\u001B[39m     result = \u001B[43mlibops\u001B[49m\u001B[43m.\u001B[49m\u001B[43mscalar_compare\u001B[49m\u001B[43m(\u001B[49m\u001B[43mx\u001B[49m\u001B[43m.\u001B[49m\u001B[43mravel\u001B[49m\u001B[43m(\u001B[49m\u001B[43m)\u001B[49m\u001B[43m,\u001B[49m\u001B[43m \u001B[49m\u001B[43my\u001B[49m\u001B[43m,\u001B[49m\u001B[43m \u001B[49m\u001B[43mop\u001B[49m\u001B[43m)\u001B[49m\n\u001B[32m    130\u001B[39m \u001B[38;5;28;01mreturn\u001B[39;00m result.reshape(x.shape)\n",
      "\u001B[36mFile \u001B[39m\u001B[32mops.pyx:107\u001B[39m, in \u001B[36mpandas._libs.ops.scalar_compare\u001B[39m\u001B[34m()\u001B[39m\n",
      "\u001B[31mTypeError\u001B[39m: '>' not supported between instances of 'str' and 'int'"
     ]
    }
   ],
   "execution_count": 14
  },
  {
   "metadata": {
    "ExecuteTime": {
     "end_time": "2025-05-23T11:23:21.703797Z",
     "start_time": "2025-05-23T11:23:21.525002Z"
    }
   },
   "cell_type": "code",
   "source": [
    "df['timestamp'] = pd.to_datetime(df['timestamp'], errors='coerce', format=\"%Y%m%d %H:%M:%S\")\n",
    "df_sorted = df.sort_values(['sender_account', 'timestamp'])\n",
    "df_sorted['time_diff'] = df_sorted.groupby('sender_account')['timestamp'].diff().dt.total_seconds()\n",
    "rapid_transfers = df_sorted[df_sorted['time_diff'] < 60]\n",
    "\n",
    "print(rapid_transfers)"
   ],
   "id": "5caa33584cb8434d",
   "outputs": [
    {
     "name": "stdout",
     "output_type": "stream",
     "text": [
      "Empty DataFrame\n",
      "Columns: [transaction_id, timestamp, amount, currency, sender_account, receiver_account, sender_country, sender_municipality, receiver_country, receiver_municipality, transaction_type, notes, time_diff]\n",
      "Index: []\n"
     ]
    }
   ],
   "execution_count": 15
  },
  {
   "metadata": {
    "ExecuteTime": {
     "end_time": "2025-05-23T11:23:24.032743Z",
     "start_time": "2025-05-23T11:23:24.026235Z"
    }
   },
   "cell_type": "code",
   "source": [
    "df['hour'] = df['timestamp'].dt.hour\n",
    "odd_hours = df[(df['hour'] >= 0) & (df['hour'] <= 5)]\n",
    "\n",
    "print(odd_hours)"
   ],
   "id": "94f0e4d0a65b21f",
   "outputs": [
    {
     "name": "stdout",
     "output_type": "stream",
     "text": [
      "                           transaction_id           timestamp    amount  \\\n",
      "372  e13b1664-c549-4f92-895a-1f941dd6d82e 2025-01-25 04:48:00  12881.63   \n",
      "\n",
      "    currency            sender_account          receiver_account  \\\n",
      "372      SEK  SE8902IOSH72112913547339  SE8902EXDO77351409949930   \n",
      "\n",
      "    sender_country sender_municipality receiver_country receiver_municipality  \\\n",
      "372         Sweden          Norrköping           Sweden            Trelleborg   \n",
      "\n",
      "    transaction_type           notes  hour  \n",
      "372         incoming  Loan repayment   4.0  \n"
     ]
    }
   ],
   "execution_count": 16
  },
  {
   "metadata": {
    "ExecuteTime": {
     "end_time": "2025-05-23T11:23:26.740206Z",
     "start_time": "2025-05-23T11:23:26.724483Z"
    }
   },
   "cell_type": "code",
   "source": "df[df[\"currency\"] == \"USD\"]",
   "id": "5880df962d8de4d7",
   "outputs": [
    {
     "data": {
      "text/plain": [
       "                             transaction_id timestamp    amount currency  \\\n",
       "10024  9dc886e6-92b4-4676-a117-898a49cd7028       NaT  33122.79      USD   \n",
       "10027  8e9b3ce5-7fbb-4bcf-9972-e7b94b746024       NaT  36723.54      USD   \n",
       "10038  44649832-79ae-4434-b56b-85724eae71fe       NaT   18030.9      USD   \n",
       "10042  2f20e79c-557d-4373-8927-ffc5171be76e       NaT  47793.06      USD   \n",
       "10046  7f24aabc-260f-410e-9258-e4d45d61ae4f       NaT  25048.93      USD   \n",
       "...                                     ...       ...       ...      ...   \n",
       "99995  ea7e0cb2-fadb-496c-962b-7e54a5cfa1bc       NaT    146.04      USD   \n",
       "99996  4271c3c0-d3be-49f5-8154-ee60e2a1e582       NaT     56.98      USD   \n",
       "99997  23574238-9739-4af4-a823-5b699812db4d       NaT    128.34      USD   \n",
       "99998  38e785ff-e460-419e-af07-595f5c67aaf6       NaT    149.13      USD   \n",
       "99999  94e5a276-d5ce-40f6-b17c-97885b455bbd       NaT     41.77      USD   \n",
       "\n",
       "               sender_account          receiver_account sender_country  \\\n",
       "10024  GB62RKHP79010933767921  SE8902HQAX24109353987935       Zimbabwe   \n",
       "10027  GB15VDIW08275286495785  SE8902IKDV65851419590384        Estonia   \n",
       "10038  GB30KWRY94445383264469  SE8902KYVM99796065752709        Ecuador   \n",
       "10042  GB38KUZO58009177664053  SE8902BGXZ28785412485874        Lebanon   \n",
       "10046  GB39ORSX60465275895880  SE8902FGVT78270418758930       Zimbabwe   \n",
       "...                       ...                       ...            ...   \n",
       "99995  GB39XHRG15445191862019  SE8902AQYT55466061009593     Mauritania   \n",
       "99996  GB97OHYP64183530899251  SE8902AQYT55466061009593         Guinea   \n",
       "99997  GB68PWPH34390331224741  SE8902AQYT55466061009593        Tokelau   \n",
       "99998  GB30NDUZ96025046626638  SE8902AQYT55466061009593       Bulgaria   \n",
       "99999  GB64JUMJ42347315082570  SE8902AQYT55466061009593         Latvia   \n",
       "\n",
       "      sender_municipality receiver_country receiver_municipality  \\\n",
       "10024            Barrport           Sweden              Nyköping   \n",
       "10027            Holmfurt           Sweden               Uppsala   \n",
       "10038          Nancyville           Sweden                 Piteå   \n",
       "10042         Morrismouth           Sweden                 Borås   \n",
       "10046      Port Chrisland           Sweden                  Lund   \n",
       "...                   ...              ...                   ...   \n",
       "99995        Jacksonville           Sweden              Nyköping   \n",
       "99996         Waltersport           Sweden            Skellefteå   \n",
       "99997           Davidfurt           Sweden                 Luleå   \n",
       "99998     West Andrewside           Sweden            Skellefteå   \n",
       "99999        Crawfordfort           Sweden               Varberg   \n",
       "\n",
       "      transaction_type                  notes  hour  \n",
       "10024         incoming             Tax refund   NaN  \n",
       "10027         incoming           Utility bill   NaN  \n",
       "10038         incoming       Subscription fee   NaN  \n",
       "10042         outgoing         Consulting fee   NaN  \n",
       "10046         outgoing       Subscription fee   NaN  \n",
       "...                ...                    ...   ...  \n",
       "99995         outgoing  Gift to family member   NaN  \n",
       "99996         incoming                    NaN   NaN  \n",
       "99997         incoming  Gift to family member   NaN  \n",
       "99998         outgoing         Loan repayment   NaN  \n",
       "99999         outgoing                    NaN   NaN  \n",
       "\n",
       "[15210 rows x 13 columns]"
      ],
      "text/html": [
       "<div>\n",
       "<style scoped>\n",
       "    .dataframe tbody tr th:only-of-type {\n",
       "        vertical-align: middle;\n",
       "    }\n",
       "\n",
       "    .dataframe tbody tr th {\n",
       "        vertical-align: top;\n",
       "    }\n",
       "\n",
       "    .dataframe thead th {\n",
       "        text-align: right;\n",
       "    }\n",
       "</style>\n",
       "<table border=\"1\" class=\"dataframe\">\n",
       "  <thead>\n",
       "    <tr style=\"text-align: right;\">\n",
       "      <th></th>\n",
       "      <th>transaction_id</th>\n",
       "      <th>timestamp</th>\n",
       "      <th>amount</th>\n",
       "      <th>currency</th>\n",
       "      <th>sender_account</th>\n",
       "      <th>receiver_account</th>\n",
       "      <th>sender_country</th>\n",
       "      <th>sender_municipality</th>\n",
       "      <th>receiver_country</th>\n",
       "      <th>receiver_municipality</th>\n",
       "      <th>transaction_type</th>\n",
       "      <th>notes</th>\n",
       "      <th>hour</th>\n",
       "    </tr>\n",
       "  </thead>\n",
       "  <tbody>\n",
       "    <tr>\n",
       "      <th>10024</th>\n",
       "      <td>9dc886e6-92b4-4676-a117-898a49cd7028</td>\n",
       "      <td>NaT</td>\n",
       "      <td>33122.79</td>\n",
       "      <td>USD</td>\n",
       "      <td>GB62RKHP79010933767921</td>\n",
       "      <td>SE8902HQAX24109353987935</td>\n",
       "      <td>Zimbabwe</td>\n",
       "      <td>Barrport</td>\n",
       "      <td>Sweden</td>\n",
       "      <td>Nyköping</td>\n",
       "      <td>incoming</td>\n",
       "      <td>Tax refund</td>\n",
       "      <td>NaN</td>\n",
       "    </tr>\n",
       "    <tr>\n",
       "      <th>10027</th>\n",
       "      <td>8e9b3ce5-7fbb-4bcf-9972-e7b94b746024</td>\n",
       "      <td>NaT</td>\n",
       "      <td>36723.54</td>\n",
       "      <td>USD</td>\n",
       "      <td>GB15VDIW08275286495785</td>\n",
       "      <td>SE8902IKDV65851419590384</td>\n",
       "      <td>Estonia</td>\n",
       "      <td>Holmfurt</td>\n",
       "      <td>Sweden</td>\n",
       "      <td>Uppsala</td>\n",
       "      <td>incoming</td>\n",
       "      <td>Utility bill</td>\n",
       "      <td>NaN</td>\n",
       "    </tr>\n",
       "    <tr>\n",
       "      <th>10038</th>\n",
       "      <td>44649832-79ae-4434-b56b-85724eae71fe</td>\n",
       "      <td>NaT</td>\n",
       "      <td>18030.9</td>\n",
       "      <td>USD</td>\n",
       "      <td>GB30KWRY94445383264469</td>\n",
       "      <td>SE8902KYVM99796065752709</td>\n",
       "      <td>Ecuador</td>\n",
       "      <td>Nancyville</td>\n",
       "      <td>Sweden</td>\n",
       "      <td>Piteå</td>\n",
       "      <td>incoming</td>\n",
       "      <td>Subscription fee</td>\n",
       "      <td>NaN</td>\n",
       "    </tr>\n",
       "    <tr>\n",
       "      <th>10042</th>\n",
       "      <td>2f20e79c-557d-4373-8927-ffc5171be76e</td>\n",
       "      <td>NaT</td>\n",
       "      <td>47793.06</td>\n",
       "      <td>USD</td>\n",
       "      <td>GB38KUZO58009177664053</td>\n",
       "      <td>SE8902BGXZ28785412485874</td>\n",
       "      <td>Lebanon</td>\n",
       "      <td>Morrismouth</td>\n",
       "      <td>Sweden</td>\n",
       "      <td>Borås</td>\n",
       "      <td>outgoing</td>\n",
       "      <td>Consulting fee</td>\n",
       "      <td>NaN</td>\n",
       "    </tr>\n",
       "    <tr>\n",
       "      <th>10046</th>\n",
       "      <td>7f24aabc-260f-410e-9258-e4d45d61ae4f</td>\n",
       "      <td>NaT</td>\n",
       "      <td>25048.93</td>\n",
       "      <td>USD</td>\n",
       "      <td>GB39ORSX60465275895880</td>\n",
       "      <td>SE8902FGVT78270418758930</td>\n",
       "      <td>Zimbabwe</td>\n",
       "      <td>Port Chrisland</td>\n",
       "      <td>Sweden</td>\n",
       "      <td>Lund</td>\n",
       "      <td>outgoing</td>\n",
       "      <td>Subscription fee</td>\n",
       "      <td>NaN</td>\n",
       "    </tr>\n",
       "    <tr>\n",
       "      <th>...</th>\n",
       "      <td>...</td>\n",
       "      <td>...</td>\n",
       "      <td>...</td>\n",
       "      <td>...</td>\n",
       "      <td>...</td>\n",
       "      <td>...</td>\n",
       "      <td>...</td>\n",
       "      <td>...</td>\n",
       "      <td>...</td>\n",
       "      <td>...</td>\n",
       "      <td>...</td>\n",
       "      <td>...</td>\n",
       "      <td>...</td>\n",
       "    </tr>\n",
       "    <tr>\n",
       "      <th>99995</th>\n",
       "      <td>ea7e0cb2-fadb-496c-962b-7e54a5cfa1bc</td>\n",
       "      <td>NaT</td>\n",
       "      <td>146.04</td>\n",
       "      <td>USD</td>\n",
       "      <td>GB39XHRG15445191862019</td>\n",
       "      <td>SE8902AQYT55466061009593</td>\n",
       "      <td>Mauritania</td>\n",
       "      <td>Jacksonville</td>\n",
       "      <td>Sweden</td>\n",
       "      <td>Nyköping</td>\n",
       "      <td>outgoing</td>\n",
       "      <td>Gift to family member</td>\n",
       "      <td>NaN</td>\n",
       "    </tr>\n",
       "    <tr>\n",
       "      <th>99996</th>\n",
       "      <td>4271c3c0-d3be-49f5-8154-ee60e2a1e582</td>\n",
       "      <td>NaT</td>\n",
       "      <td>56.98</td>\n",
       "      <td>USD</td>\n",
       "      <td>GB97OHYP64183530899251</td>\n",
       "      <td>SE8902AQYT55466061009593</td>\n",
       "      <td>Guinea</td>\n",
       "      <td>Waltersport</td>\n",
       "      <td>Sweden</td>\n",
       "      <td>Skellefteå</td>\n",
       "      <td>incoming</td>\n",
       "      <td>NaN</td>\n",
       "      <td>NaN</td>\n",
       "    </tr>\n",
       "    <tr>\n",
       "      <th>99997</th>\n",
       "      <td>23574238-9739-4af4-a823-5b699812db4d</td>\n",
       "      <td>NaT</td>\n",
       "      <td>128.34</td>\n",
       "      <td>USD</td>\n",
       "      <td>GB68PWPH34390331224741</td>\n",
       "      <td>SE8902AQYT55466061009593</td>\n",
       "      <td>Tokelau</td>\n",
       "      <td>Davidfurt</td>\n",
       "      <td>Sweden</td>\n",
       "      <td>Luleå</td>\n",
       "      <td>incoming</td>\n",
       "      <td>Gift to family member</td>\n",
       "      <td>NaN</td>\n",
       "    </tr>\n",
       "    <tr>\n",
       "      <th>99998</th>\n",
       "      <td>38e785ff-e460-419e-af07-595f5c67aaf6</td>\n",
       "      <td>NaT</td>\n",
       "      <td>149.13</td>\n",
       "      <td>USD</td>\n",
       "      <td>GB30NDUZ96025046626638</td>\n",
       "      <td>SE8902AQYT55466061009593</td>\n",
       "      <td>Bulgaria</td>\n",
       "      <td>West Andrewside</td>\n",
       "      <td>Sweden</td>\n",
       "      <td>Skellefteå</td>\n",
       "      <td>outgoing</td>\n",
       "      <td>Loan repayment</td>\n",
       "      <td>NaN</td>\n",
       "    </tr>\n",
       "    <tr>\n",
       "      <th>99999</th>\n",
       "      <td>94e5a276-d5ce-40f6-b17c-97885b455bbd</td>\n",
       "      <td>NaT</td>\n",
       "      <td>41.77</td>\n",
       "      <td>USD</td>\n",
       "      <td>GB64JUMJ42347315082570</td>\n",
       "      <td>SE8902AQYT55466061009593</td>\n",
       "      <td>Latvia</td>\n",
       "      <td>Crawfordfort</td>\n",
       "      <td>Sweden</td>\n",
       "      <td>Varberg</td>\n",
       "      <td>outgoing</td>\n",
       "      <td>NaN</td>\n",
       "      <td>NaN</td>\n",
       "    </tr>\n",
       "  </tbody>\n",
       "</table>\n",
       "<p>15210 rows × 13 columns</p>\n",
       "</div>"
      ]
     },
     "execution_count": 17,
     "metadata": {},
     "output_type": "execute_result"
    }
   ],
   "execution_count": 17
  },
  {
   "metadata": {
    "ExecuteTime": {
     "end_time": "2025-05-23T11:24:01.348087Z",
     "start_time": "2025-05-23T11:24:01.339955Z"
    }
   },
   "cell_type": "code",
   "source": "df[\"currency\"].unique()",
   "id": "c2ecec7b09f00999",
   "outputs": [
    {
     "data": {
      "text/plain": [
       "array(['SEK', 'SKR', ' SEK', 'SEK ', 'DKK', 'USD', 'EUR', 'NOK', 'RMB',\n",
       "       'ZAR', 'GBP', 'ZMW', 'JPY'], dtype=object)"
      ]
     },
     "execution_count": 18,
     "metadata": {},
     "output_type": "execute_result"
    }
   ],
   "execution_count": 18
  },
  {
   "metadata": {
    "ExecuteTime": {
     "end_time": "2025-05-23T11:24:36.406855Z",
     "start_time": "2025-05-23T11:24:36.403624Z"
    }
   },
   "cell_type": "code",
   "source": [
    "def normalize_currency(code):\n",
    "    #value = value.replace(\" \", \"\").replace(\",\", \".\")\n",
    "    code = code.upper()\n",
    "    return \"CNY\" if code == \"RMB\" else code"
   ],
   "id": "df890c52c98d0d74",
   "outputs": [],
   "execution_count": 19
  },
  {
   "metadata": {
    "ExecuteTime": {
     "end_time": "2025-05-23T11:24:39.906926Z",
     "start_time": "2025-05-23T11:24:39.882084Z"
    }
   },
   "cell_type": "code",
   "source": [
    "df[\"currency\"] = df[\"currency\"].apply(normalize_currency)\n",
    "df[df[\"currency\"] == \"CNY\"]"
   ],
   "id": "3f8b22950ebf7ddb",
   "outputs": [
    {
     "data": {
      "text/plain": [
       "                             transaction_id timestamp    amount currency  \\\n",
       "10388  8587f935-217f-4f0f-bf70-f49d71fc7560       NaT  29504.95      CNY   \n",
       "10869  dac2b381-8e65-4354-8273-e37bc9844c3d       NaT  46625.75      CNY   \n",
       "11412  b9f1fcf0-d6c3-43c7-a41c-d450bc7108e1       NaT   6779.96      CNY   \n",
       "12473  55f24179-c080-444f-bb19-70a69c8ac71d       NaT  24002.99      CNY   \n",
       "12835  0cca4ee5-11e1-4dff-8bd1-d0d22543f199       NaT  29706.17      CNY   \n",
       "...                                     ...       ...       ...      ...   \n",
       "99723  e91aff2a-7c51-4397-8287-4b7f6929a115       NaT      8.78      CNY   \n",
       "99748  b14d5379-e763-4a9a-981f-bb016c7407c4       NaT    120.24      CNY   \n",
       "99774  9b719925-06a1-49f1-b228-94bca1021bde       NaT    126.68      CNY   \n",
       "99821  a09c2543-2611-49da-9557-90196009f5e7       NaT    175.47      CNY   \n",
       "99954  5e2fbadc-4eac-4c02-ba4b-bc7bfb5250fd       NaT    154.96      CNY   \n",
       "\n",
       "               sender_account          receiver_account sender_country  \\\n",
       "10388  GB22CUIS74011346478461  SE8902FVHN39495333689229        Myanmar   \n",
       "10869  GB60QSLL17949114419711  SE8902JGET69909203043484          China   \n",
       "11412  GB87KCWK96719669434369  SE8902CUOE57010683673827          China   \n",
       "12473  GB12FDWJ38091332215841  SE8902ZDKY31012668904698          China   \n",
       "12835  GB83JZAR87406000684066  SE8902ELZB18739033043345        Myanmar   \n",
       "...                       ...                       ...            ...   \n",
       "99723  GB67FMYV42874675055666  SE8902NKQD67441527476901        Myanmar   \n",
       "99748  GB29IJPZ79806661694971  SE8902ALDV54212317929105        Myanmar   \n",
       "99774  GB68VJWO80137508247615  SE8902TLVN08996057650298          China   \n",
       "99821  GB75IMUT16063944814662  SE8902ZXAW60732336695039          China   \n",
       "99954  GB13NLWE58476782062937  SE8902CSUB76034349271801        Myanmar   \n",
       "\n",
       "      sender_municipality receiver_country receiver_municipality  \\\n",
       "10388     North Geraldine           Sweden            Trelleborg   \n",
       "10869                  磊市           Sweden             Ängelholm   \n",
       "11412                 兴城市           Sweden                  Umeå   \n",
       "12473                 关岭市           Sweden             Östersund   \n",
       "12835          Barlowland           Sweden             Sandviken   \n",
       "...                   ...              ...                   ...   \n",
       "99723           Carolfurt           Sweden                 Gävle   \n",
       "99748            Rossstad           Sweden                Skövde   \n",
       "99774                 永安县           Sweden              Karlstad   \n",
       "99821                 辛集县           Sweden                Motala   \n",
       "99954        Lake Stewart           Sweden                 Växjö   \n",
       "\n",
       "      transaction_type             notes  hour  \n",
       "10388         outgoing   Online purchase   NaN  \n",
       "10869         outgoing      Utility bill   NaN  \n",
       "11412         incoming               NaN   NaN  \n",
       "12473         incoming               NaN   NaN  \n",
       "12835         incoming  Subscription fee   NaN  \n",
       "...                ...               ...   ...  \n",
       "99723         outgoing   Online purchase   NaN  \n",
       "99748         outgoing     Rent transfer   NaN  \n",
       "99774         incoming  Subscription fee   NaN  \n",
       "99821         outgoing               NaN   NaN  \n",
       "99954         incoming  Subscription fee   NaN  \n",
       "\n",
       "[119 rows x 13 columns]"
      ],
      "text/html": [
       "<div>\n",
       "<style scoped>\n",
       "    .dataframe tbody tr th:only-of-type {\n",
       "        vertical-align: middle;\n",
       "    }\n",
       "\n",
       "    .dataframe tbody tr th {\n",
       "        vertical-align: top;\n",
       "    }\n",
       "\n",
       "    .dataframe thead th {\n",
       "        text-align: right;\n",
       "    }\n",
       "</style>\n",
       "<table border=\"1\" class=\"dataframe\">\n",
       "  <thead>\n",
       "    <tr style=\"text-align: right;\">\n",
       "      <th></th>\n",
       "      <th>transaction_id</th>\n",
       "      <th>timestamp</th>\n",
       "      <th>amount</th>\n",
       "      <th>currency</th>\n",
       "      <th>sender_account</th>\n",
       "      <th>receiver_account</th>\n",
       "      <th>sender_country</th>\n",
       "      <th>sender_municipality</th>\n",
       "      <th>receiver_country</th>\n",
       "      <th>receiver_municipality</th>\n",
       "      <th>transaction_type</th>\n",
       "      <th>notes</th>\n",
       "      <th>hour</th>\n",
       "    </tr>\n",
       "  </thead>\n",
       "  <tbody>\n",
       "    <tr>\n",
       "      <th>10388</th>\n",
       "      <td>8587f935-217f-4f0f-bf70-f49d71fc7560</td>\n",
       "      <td>NaT</td>\n",
       "      <td>29504.95</td>\n",
       "      <td>CNY</td>\n",
       "      <td>GB22CUIS74011346478461</td>\n",
       "      <td>SE8902FVHN39495333689229</td>\n",
       "      <td>Myanmar</td>\n",
       "      <td>North Geraldine</td>\n",
       "      <td>Sweden</td>\n",
       "      <td>Trelleborg</td>\n",
       "      <td>outgoing</td>\n",
       "      <td>Online purchase</td>\n",
       "      <td>NaN</td>\n",
       "    </tr>\n",
       "    <tr>\n",
       "      <th>10869</th>\n",
       "      <td>dac2b381-8e65-4354-8273-e37bc9844c3d</td>\n",
       "      <td>NaT</td>\n",
       "      <td>46625.75</td>\n",
       "      <td>CNY</td>\n",
       "      <td>GB60QSLL17949114419711</td>\n",
       "      <td>SE8902JGET69909203043484</td>\n",
       "      <td>China</td>\n",
       "      <td>磊市</td>\n",
       "      <td>Sweden</td>\n",
       "      <td>Ängelholm</td>\n",
       "      <td>outgoing</td>\n",
       "      <td>Utility bill</td>\n",
       "      <td>NaN</td>\n",
       "    </tr>\n",
       "    <tr>\n",
       "      <th>11412</th>\n",
       "      <td>b9f1fcf0-d6c3-43c7-a41c-d450bc7108e1</td>\n",
       "      <td>NaT</td>\n",
       "      <td>6779.96</td>\n",
       "      <td>CNY</td>\n",
       "      <td>GB87KCWK96719669434369</td>\n",
       "      <td>SE8902CUOE57010683673827</td>\n",
       "      <td>China</td>\n",
       "      <td>兴城市</td>\n",
       "      <td>Sweden</td>\n",
       "      <td>Umeå</td>\n",
       "      <td>incoming</td>\n",
       "      <td>NaN</td>\n",
       "      <td>NaN</td>\n",
       "    </tr>\n",
       "    <tr>\n",
       "      <th>12473</th>\n",
       "      <td>55f24179-c080-444f-bb19-70a69c8ac71d</td>\n",
       "      <td>NaT</td>\n",
       "      <td>24002.99</td>\n",
       "      <td>CNY</td>\n",
       "      <td>GB12FDWJ38091332215841</td>\n",
       "      <td>SE8902ZDKY31012668904698</td>\n",
       "      <td>China</td>\n",
       "      <td>关岭市</td>\n",
       "      <td>Sweden</td>\n",
       "      <td>Östersund</td>\n",
       "      <td>incoming</td>\n",
       "      <td>NaN</td>\n",
       "      <td>NaN</td>\n",
       "    </tr>\n",
       "    <tr>\n",
       "      <th>12835</th>\n",
       "      <td>0cca4ee5-11e1-4dff-8bd1-d0d22543f199</td>\n",
       "      <td>NaT</td>\n",
       "      <td>29706.17</td>\n",
       "      <td>CNY</td>\n",
       "      <td>GB83JZAR87406000684066</td>\n",
       "      <td>SE8902ELZB18739033043345</td>\n",
       "      <td>Myanmar</td>\n",
       "      <td>Barlowland</td>\n",
       "      <td>Sweden</td>\n",
       "      <td>Sandviken</td>\n",
       "      <td>incoming</td>\n",
       "      <td>Subscription fee</td>\n",
       "      <td>NaN</td>\n",
       "    </tr>\n",
       "    <tr>\n",
       "      <th>...</th>\n",
       "      <td>...</td>\n",
       "      <td>...</td>\n",
       "      <td>...</td>\n",
       "      <td>...</td>\n",
       "      <td>...</td>\n",
       "      <td>...</td>\n",
       "      <td>...</td>\n",
       "      <td>...</td>\n",
       "      <td>...</td>\n",
       "      <td>...</td>\n",
       "      <td>...</td>\n",
       "      <td>...</td>\n",
       "      <td>...</td>\n",
       "    </tr>\n",
       "    <tr>\n",
       "      <th>99723</th>\n",
       "      <td>e91aff2a-7c51-4397-8287-4b7f6929a115</td>\n",
       "      <td>NaT</td>\n",
       "      <td>8.78</td>\n",
       "      <td>CNY</td>\n",
       "      <td>GB67FMYV42874675055666</td>\n",
       "      <td>SE8902NKQD67441527476901</td>\n",
       "      <td>Myanmar</td>\n",
       "      <td>Carolfurt</td>\n",
       "      <td>Sweden</td>\n",
       "      <td>Gävle</td>\n",
       "      <td>outgoing</td>\n",
       "      <td>Online purchase</td>\n",
       "      <td>NaN</td>\n",
       "    </tr>\n",
       "    <tr>\n",
       "      <th>99748</th>\n",
       "      <td>b14d5379-e763-4a9a-981f-bb016c7407c4</td>\n",
       "      <td>NaT</td>\n",
       "      <td>120.24</td>\n",
       "      <td>CNY</td>\n",
       "      <td>GB29IJPZ79806661694971</td>\n",
       "      <td>SE8902ALDV54212317929105</td>\n",
       "      <td>Myanmar</td>\n",
       "      <td>Rossstad</td>\n",
       "      <td>Sweden</td>\n",
       "      <td>Skövde</td>\n",
       "      <td>outgoing</td>\n",
       "      <td>Rent transfer</td>\n",
       "      <td>NaN</td>\n",
       "    </tr>\n",
       "    <tr>\n",
       "      <th>99774</th>\n",
       "      <td>9b719925-06a1-49f1-b228-94bca1021bde</td>\n",
       "      <td>NaT</td>\n",
       "      <td>126.68</td>\n",
       "      <td>CNY</td>\n",
       "      <td>GB68VJWO80137508247615</td>\n",
       "      <td>SE8902TLVN08996057650298</td>\n",
       "      <td>China</td>\n",
       "      <td>永安县</td>\n",
       "      <td>Sweden</td>\n",
       "      <td>Karlstad</td>\n",
       "      <td>incoming</td>\n",
       "      <td>Subscription fee</td>\n",
       "      <td>NaN</td>\n",
       "    </tr>\n",
       "    <tr>\n",
       "      <th>99821</th>\n",
       "      <td>a09c2543-2611-49da-9557-90196009f5e7</td>\n",
       "      <td>NaT</td>\n",
       "      <td>175.47</td>\n",
       "      <td>CNY</td>\n",
       "      <td>GB75IMUT16063944814662</td>\n",
       "      <td>SE8902ZXAW60732336695039</td>\n",
       "      <td>China</td>\n",
       "      <td>辛集县</td>\n",
       "      <td>Sweden</td>\n",
       "      <td>Motala</td>\n",
       "      <td>outgoing</td>\n",
       "      <td>NaN</td>\n",
       "      <td>NaN</td>\n",
       "    </tr>\n",
       "    <tr>\n",
       "      <th>99954</th>\n",
       "      <td>5e2fbadc-4eac-4c02-ba4b-bc7bfb5250fd</td>\n",
       "      <td>NaT</td>\n",
       "      <td>154.96</td>\n",
       "      <td>CNY</td>\n",
       "      <td>GB13NLWE58476782062937</td>\n",
       "      <td>SE8902CSUB76034349271801</td>\n",
       "      <td>Myanmar</td>\n",
       "      <td>Lake Stewart</td>\n",
       "      <td>Sweden</td>\n",
       "      <td>Växjö</td>\n",
       "      <td>incoming</td>\n",
       "      <td>Subscription fee</td>\n",
       "      <td>NaN</td>\n",
       "    </tr>\n",
       "  </tbody>\n",
       "</table>\n",
       "<p>119 rows × 13 columns</p>\n",
       "</div>"
      ]
     },
     "execution_count": 20,
     "metadata": {},
     "output_type": "execute_result"
    }
   ],
   "execution_count": 20
  },
  {
   "metadata": {
    "ExecuteTime": {
     "end_time": "2025-05-23T11:25:01.209885Z",
     "start_time": "2025-05-23T11:25:01.191508Z"
    }
   },
   "cell_type": "code",
   "source": "df['receiver_account'].value_counts()[lambda x: x > 1]",
   "id": "33fb75a8a50171cd",
   "outputs": [
    {
     "data": {
      "text/plain": [
       "receiver_account\n",
       "SE8902ALDV54212317929105    78\n",
       "SE8902XNNG22633901157104    78\n",
       "SE8902FMJT85003375468035    77\n",
       "SE8902PZOD95284482487556    77\n",
       "SE8902MEUJ12583052373274    75\n",
       "                            ..\n",
       "SE8902TIKJ28529081186459    34\n",
       "SE8902GPEX80518454024672    33\n",
       "SE8902MHLN19630671655118    33\n",
       "SE8902WQNH22089611973896    30\n",
       "SE8902UDDT61255542548403    30\n",
       "Name: count, Length: 1000, dtype: int64"
      ]
     },
     "execution_count": 21,
     "metadata": {},
     "output_type": "execute_result"
    }
   ],
   "execution_count": 21
  },
  {
   "metadata": {
    "ExecuteTime": {
     "end_time": "2025-05-23T11:25:29.887863Z",
     "start_time": "2025-05-23T11:25:29.855201Z"
    }
   },
   "cell_type": "code",
   "source": [
    "multiple_received = df.groupby('receiver_account').size()\n",
    "multiple_received = multiple_received[multiple_received > 75]\n",
    "print(multiple_received)"
   ],
   "id": "9ed3e48261e147c9",
   "outputs": [
    {
     "name": "stdout",
     "output_type": "stream",
     "text": [
      "receiver_account\n",
      "SE8902ALDV54212317929105    78\n",
      "SE8902FMJT85003375468035    77\n",
      "SE8902PZOD95284482487556    77\n",
      "SE8902XNNG22633901157104    78\n",
      "dtype: int64\n"
     ]
    }
   ],
   "execution_count": 22
  },
  {
   "metadata": {
    "ExecuteTime": {
     "end_time": "2025-05-23T11:25:41.964200Z",
     "start_time": "2025-05-23T11:25:41.887420Z"
    }
   },
   "cell_type": "code",
   "source": [
    "# Se till att amount är i rätt format (float)\n",
    "#df['amount'] = df['amount'].astype(float)\n",
    "\n",
    "# Grupp efter sender och receiver\n",
    "transfer_summary = df.groupby(['sender_account', 'receiver_account']).agg(\n",
    "    transaction_count=('amount', 'count'),\n",
    "    #total_amount=('amount', 'sum')\n",
    ").reset_index()\n",
    "\n",
    "# Visa bara de som skickat fler än en gång\n",
    "repeated_transfers = transfer_summary[transfer_summary['transaction_count'] > 1]\n",
    "\n",
    "print(repeated_transfers)\n"
   ],
   "id": "99a8f8aaeaed7a1d",
   "outputs": [
    {
     "name": "stdout",
     "output_type": "stream",
     "text": [
      "                 sender_account          receiver_account  transaction_count\n",
      "42709  SE8902ABCI09083135852362  SE8902IADF98077782900234                  2\n",
      "49579  SE8902CWDO20077844008455  SE8902WMJJ51991398288050                  2\n",
      "53852  SE8902EXIB33653688394695  SE8902SEOH55592315458862                  2\n",
      "54334  SE8902FCQC45454489492127  SE8902AXJS46097747161697                  2\n",
      "56606  SE8902GGKR42392585018307  SE8902PAUD14800167956656                  2\n",
      "58182  SE8902GXXP17738713863102  SE8902LHFZ29797803618611                  2\n",
      "61010  SE8902IFTV45914273013389  SE8902TRCO62989417471868                  2\n",
      "62189  SE8902IRAV26677525304054  SE8902KXIU12156687445452                  2\n",
      "63343  SE8902JGET69909203043484  SE8902CZTD12546658942322                  2\n",
      "63346  SE8902JGET69909203043484  SE8902TCVN64620007776552                  2\n",
      "63706  SE8902JMYP35839764449656  SE8902PNMZ47985736012731                  2\n",
      "66755  SE8902KXQZ51570419970356  SE8902YRMM27818499157642                  2\n",
      "67333  SE8902LEBQ34484824716381  SE8902VVYX01959227879602                  2\n",
      "67445  SE8902LHFZ29797803618611  SE8902QSRT54181564209384                  2\n",
      "69386  SE8902MBLN98698078214773  SE8902CRSS40381676939810                  2\n",
      "69433  SE8902MCXU75559151329539  SE8902VRDK31970786547803                  2\n",
      "69850  SE8902MJGO82608964017389  SE8902USUX47630735390761                  2\n",
      "77194  SE8902POEQ50630253340435  SE8902STOV95749162393764                  2\n",
      "77450  SE8902PTHR81156296745441  SE8902FZSE04507369196975                  2\n",
      "78102  SE8902PZCA54916652714719  SE8902FBYZ81516210215906                  2\n",
      "78968  SE8902QHIC85594136647713  SE8902OFUZ18084827922281                  2\n",
      "80172  SE8902RBCK97946450120118  SE8902IPJL84462668733092                  2\n",
      "80504  SE8902REDG68030564852485  SE8902ETJQ36713699265219                  2\n",
      "80855  SE8902RMMF57658230023950  SE8902MHYZ08408003997445                  2\n",
      "81225  SE8902RRZA54949356708764  SE8902DCMN11330059075548                  2\n",
      "84366  SE8902SVHZ40527211740813  SE8902AQYT55466061009593                  2\n",
      "86846  SE8902UBQE57340544592430  SE8902ERNA19462716907689                  2\n",
      "86955  SE8902UBZY42420742654613  SE8902IMVA62076292607481                  2\n",
      "87105  SE8902UDED11242220219330  SE8902AHXN75154513430499                  2\n",
      "87862  SE8902URHJ34985941724410  SE8902FPPL01400439617541                  2\n",
      "88966  SE8902VHSV79689453378952  SE8902ZQCM12469422476399                  2\n",
      "91274  SE8902WDKF51923308180325  SE8902DZHP61637560790239                  2\n",
      "92218  SE8902WOOQ92936756940323  SE8902GMRX38439893605753                  2\n",
      "92282  SE8902WPHL32329175684552  SE8902UKGU22372539668767                  2\n",
      "92435  SE8902WSMI87979653368068  SE8902YRRA01363037551827                  2\n",
      "93122  SE8902XASW23908035149090  SE8902BRVY69326643951697                  2\n",
      "93365  SE8902XHOB54363241632446  SE8902FCSW95176136252838                  2\n",
      "94463  SE8902XTUF07459707305027  SE8902ILZI35949482301412                  2\n",
      "94627  SE8902XVJM59989238097967  SE8902PZXC28271888927329                  2\n",
      "96661  SE8902YRMM27818499157642  SE8902HIDK89051118545185                  2\n",
      "97701  SE8902ZBNR16522841321077  SE8902FNII57196986671320                  2\n",
      "97858  SE8902ZEFG02654072612379  SE8902AZCJ34918120321272                  2\n",
      "97931  SE8902ZFPB43514179563467  SE8902YLGY52629721861522                  2\n",
      "98579  SE8902ZMJW13591262733635  SE8902ACBU41545762793300                  2\n"
     ]
    }
   ],
   "execution_count": 23
  }
 ],
 "metadata": {
  "kernelspec": {
   "display_name": "Python 3",
   "language": "python",
   "name": "python3"
  },
  "language_info": {
   "codemirror_mode": {
    "name": "ipython",
    "version": 2
   },
   "file_extension": ".py",
   "mimetype": "text/x-python",
   "name": "python",
   "nbconvert_exporter": "python",
   "pygments_lexer": "ipython2",
   "version": "2.7.6"
  }
 },
 "nbformat": 4,
 "nbformat_minor": 5
}
