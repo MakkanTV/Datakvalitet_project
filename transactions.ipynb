{
 "cells": [
  {
   "metadata": {},
   "cell_type": "code",
   "outputs": [],
   "execution_count": null,
   "source": "",
   "id": "6be994ec4812797e"
  },
  {
   "metadata": {
    "ExecuteTime": {
     "end_time": "2025-05-21T08:29:37.352690Z",
     "start_time": "2025-05-21T08:29:36.229411Z"
    }
   },
   "cell_type": "code",
   "source": "import pandas as pd",
   "id": "3b47ae49d5a18359",
   "outputs": [],
   "execution_count": 1
  },
  {
   "cell_type": "code",
   "id": "initial_id",
   "metadata": {
    "collapsed": true,
    "ExecuteTime": {
     "end_time": "2025-05-20T12:24:08.909100Z",
     "start_time": "2025-05-20T12:24:08.904506Z"
    }
   },
   "source": "print(\"Hello World\")",
   "outputs": [
    {
     "name": "stdout",
     "output_type": "stream",
     "text": [
      "Hello World\n"
     ]
    }
   ],
   "execution_count": 7
  },
  {
   "metadata": {
    "ExecuteTime": {
     "end_time": "2025-05-20T12:28:28.404033Z",
     "start_time": "2025-05-20T12:28:28.115428Z"
    }
   },
   "cell_type": "code",
   "source": [
    "df = pd.read_csv(\"transactions.csv\")\n",
    "print(a)\n",
    "low_memory=False"
   ],
   "id": "50b2e1a286681425",
   "outputs": [
    {
     "name": "stdout",
     "output_type": "stream",
     "text": [
      "                             transaction_id            timestamp     amount  \\\n",
      "0      f2f3b0fc-b7d7-4d85-b682-cbf07ef77c1a  2025-03-06 12:04:00    7746.03   \n",
      "1      feccbd1e-7752-4452-a44a-901510252561  2025-03-31 01:37:00   45193.04   \n",
      "2      bc6a480c-e2e1-434d-830c-1cda3f913038  2025-04-29 22:58:00   33029.71   \n",
      "3      b832aa2c-77f3-4c4f-9697-9776b8d74abb  2025-02-27 14:52:00  35994 .61   \n",
      "4      0d32c6ef-508e-4f5d-bc64-341a0a9f498d  2025-01-03 22:29:00   32229.73   \n",
      "...                                     ...                  ...        ...   \n",
      "99995  ea7e0cb2-fadb-496c-962b-7e54a5cfa1bc  2025-02-03 17:00:00     146.04   \n",
      "99996  4271c3c0-d3be-49f5-8154-ee60e2a1e582  2025-01-07 14:00:00      56.98   \n",
      "99997  23574238-9739-4af4-a823-5b699812db4d  2025-05-11 13:00:00     128.34   \n",
      "99998  38e785ff-e460-419e-af07-595f5c67aaf6  2025-02-02 13:00:00     149.13   \n",
      "99999  94e5a276-d5ce-40f6-b17c-97885b455bbd  2025-05-09 15:00:00      41.77   \n",
      "\n",
      "      currency            sender_account          receiver_account  \\\n",
      "0          SEK  SE8902EWFT80524424320740  SE8902ZUIH32054423564254   \n",
      "1          SEK  SE8902GTSI58472323675409  SE8902ERNA19462716907689   \n",
      "2          SEK  SE8902SEZT63377163386089  SE8902LOLQ30361773270969   \n",
      "3          SEK  SE8902MGEE43594824630478  SE8902XIVG18316797897983   \n",
      "4          SEK  SE8902SZWO66860675966705  SE8902SUUS97732018069804   \n",
      "...        ...                       ...                       ...   \n",
      "99995      USD    GB39XHRG15445191862019  SE8902AQYT55466061009593   \n",
      "99996      USD    GB97OHYP64183530899251  SE8902AQYT55466061009593   \n",
      "99997      USD    GB68PWPH34390331224741  SE8902AQYT55466061009593   \n",
      "99998      USD    GB30NDUZ96025046626638  SE8902AQYT55466061009593   \n",
      "99999      USD    GB64JUMJ42347315082570  SE8902AQYT55466061009593   \n",
      "\n",
      "      sender_country sender_municipality receiver_country  \\\n",
      "0             Sweden          Karlskrona           Sweden   \n",
      "1             Sweden               Piteå           Sweden   \n",
      "2             Sweden           Östersund           Sweden   \n",
      "3             Sweden            Karlstad           Sweden   \n",
      "4             Sweden          Skellefteå           Sweden   \n",
      "...              ...                 ...              ...   \n",
      "99995     Mauritania        Jacksonville           Sweden   \n",
      "99996         Guinea         Waltersport           Sweden   \n",
      "99997        Tokelau           Davidfurt           Sweden   \n",
      "99998       Bulgaria     West Andrewside           Sweden   \n",
      "99999         Latvia        Crawfordfort           Sweden   \n",
      "\n",
      "      receiver_municipality transaction_type                  notes  \n",
      "0                Eskilstuna         outgoing        Online purchase  \n",
      "1                Norrköping         outgoing             Tax refund  \n",
      "2                 Karlskoga         incoming             Tax refund  \n",
      "3               Helsingborg         incoming                    NaN  \n",
      "4                     Falun         outgoing             Tax refund  \n",
      "...                     ...              ...                    ...  \n",
      "99995              Nyköping         outgoing  Gift to family member  \n",
      "99996            Skellefteå         incoming                    NaN  \n",
      "99997                 Luleå         incoming  Gift to family member  \n",
      "99998            Skellefteå         outgoing         Loan repayment  \n",
      "99999               Varberg         outgoing                    NaN  \n",
      "\n",
      "[100000 rows x 12 columns]\n"
     ]
    },
    {
     "name": "stderr",
     "output_type": "stream",
     "text": [
      "C:\\Users\\milan\\AppData\\Local\\Temp\\ipykernel_104344\\220847042.py:1: DtypeWarning: Columns (2) have mixed types. Specify dtype option on import or set low_memory=False.\n",
      "  df = pd.read_csv(\"transactions.csv\")\n"
     ]
    }
   ],
   "execution_count": 12
  },
  {
   "metadata": {
    "ExecuteTime": {
     "end_time": "2025-05-20T12:29:52.281269Z",
     "start_time": "2025-05-20T12:29:52.235400Z"
    }
   },
   "cell_type": "code",
   "source": "print(df.info())",
   "id": "eed14322d14b07b5",
   "outputs": [
    {
     "name": "stdout",
     "output_type": "stream",
     "text": [
      "<class 'pandas.core.frame.DataFrame'>\n",
      "RangeIndex: 100000 entries, 0 to 99999\n",
      "Data columns (total 12 columns):\n",
      " #   Column                 Non-Null Count   Dtype \n",
      "---  ------                 --------------   ----- \n",
      " 0   transaction_id         100000 non-null  object\n",
      " 1   timestamp              100000 non-null  object\n",
      " 2   amount                 100000 non-null  object\n",
      " 3   currency               100000 non-null  object\n",
      " 4   sender_account         100000 non-null  object\n",
      " 5   receiver_account       100000 non-null  object\n",
      " 6   sender_country         99500 non-null   object\n",
      " 7   sender_municipality    99500 non-null   object\n",
      " 8   receiver_country       99500 non-null   object\n",
      " 9   receiver_municipality  99500 non-null   object\n",
      " 10  transaction_type       100000 non-null  object\n",
      " 11  notes                  90018 non-null   object\n",
      "dtypes: object(12)\n",
      "memory usage: 9.2+ MB\n",
      "None\n"
     ]
    }
   ],
   "execution_count": 14
  },
  {
   "metadata": {
    "ExecuteTime": {
     "end_time": "2025-05-20T12:30:08.327809Z",
     "start_time": "2025-05-20T12:30:08.319484Z"
    }
   },
   "cell_type": "code",
   "source": [
    "import os\n",
    "print(os.path.exists(\"transactions.csv\"))\n"
   ],
   "id": "ff730d588d3142ca",
   "outputs": [
    {
     "name": "stdout",
     "output_type": "stream",
     "text": [
      "True\n"
     ]
    }
   ],
   "execution_count": 15
  },
  {
   "metadata": {},
   "cell_type": "code",
   "outputs": [],
   "execution_count": null,
   "source": "",
   "id": "849f9739434462f3"
  },
  {
   "metadata": {
    "ExecuteTime": {
     "end_time": "2025-05-20T12:39:16.708258Z",
     "start_time": "2025-05-20T12:39:16.695634Z"
    }
   },
   "cell_type": "code",
   "source": "print(df.dtypes)\n",
   "id": "a0ea71991a8dc174",
   "outputs": [
    {
     "name": "stdout",
     "output_type": "stream",
     "text": [
      "transaction_id           object\n",
      "timestamp                object\n",
      "amount                   object\n",
      "currency                 object\n",
      "sender_account           object\n",
      "receiver_account         object\n",
      "sender_country           object\n",
      "sender_municipality      object\n",
      "receiver_country         object\n",
      "receiver_municipality    object\n",
      "transaction_type         object\n",
      "notes                    object\n",
      "dtype: object\n"
     ]
    }
   ],
   "execution_count": 16
  },
  {
   "metadata": {},
   "cell_type": "markdown",
   "source": "",
   "id": "3138c029a21f6e9c"
  },
  {
   "metadata": {
    "ExecuteTime": {
     "end_time": "2025-05-20T13:15:54.901292Z",
     "start_time": "2025-05-20T13:15:54.847153Z"
    }
   },
   "cell_type": "code",
   "source": "print(df.head(10))\n",
   "id": "96a28f556d3968c2",
   "outputs": [
    {
     "name": "stdout",
     "output_type": "stream",
     "text": [
      "                         transaction_id            timestamp     amount  \\\n",
      "0  f2f3b0fc-b7d7-4d85-b682-cbf07ef77c1a  2025-03-06 12:04:00    7746.03   \n",
      "1  feccbd1e-7752-4452-a44a-901510252561  2025-03-31 01:37:00   45193.04   \n",
      "2  bc6a480c-e2e1-434d-830c-1cda3f913038  2025-04-29 22:58:00   33029.71   \n",
      "3  b832aa2c-77f3-4c4f-9697-9776b8d74abb  2025-02-27 14:52:00  35994 .61   \n",
      "4  0d32c6ef-508e-4f5d-bc64-341a0a9f498d  2025-01-03 22:29:00   32229.73   \n",
      "5  7c0bd0e9-8cc3-4e25-a6ab-d55b0a042b07  2025-01-13 04:03:00    14846.8   \n",
      "6  7d878125-8fe6-4c40-a84e-64a558bd8980  2025-01-25 03:01:00    18670.7   \n",
      "7  cef446a3-e4de-4440-9442-082213fc5051  2025-04-07 16:48:00   42524.49   \n",
      "8  c37d775a-fa89-4826-b5ef-ae74693fe6d6  2025-04-08 09:16:00   35278.89   \n",
      "9  63044df6-0f08-42a0-9d80-9f4671f36f5b  2025-05-17 20:20:00   43971.83   \n",
      "\n",
      "  currency            sender_account          receiver_account sender_country  \\\n",
      "0      SEK  SE8902EWFT80524424320740  SE8902ZUIH32054423564254         Sweden   \n",
      "1      SEK  SE8902GTSI58472323675409  SE8902ERNA19462716907689         Sweden   \n",
      "2      SEK  SE8902SEZT63377163386089  SE8902LOLQ30361773270969         Sweden   \n",
      "3      SEK  SE8902MGEE43594824630478  SE8902XIVG18316797897983         Sweden   \n",
      "4      SEK  SE8902SZWO66860675966705  SE8902SUUS97732018069804         Sweden   \n",
      "5      SEK  SE8902VNVB26444807190551  SE8902QDXU96051978299389         Sweden   \n",
      "6      SEK  SE8902SSFH90772655677771  SE8902UKGU22372539668767         Sweden   \n",
      "7      SEK  SE8902WEFD50718097527603  SE8902MPMD99811264245009         Sweden   \n",
      "8      SEK  SE8902QAJL37790123676980  SE8902FPSB19207759109856         Sweden   \n",
      "9      SEK  SE8902NVQD71265390083232  SE8902LVHS64335396457755         Sweden   \n",
      "\n",
      "  sender_municipality receiver_country receiver_municipality transaction_type  \\\n",
      "0          Karlskrona           Sweden            Eskilstuna         outgoing   \n",
      "1               Piteå           Sweden            Norrköping         outgoing   \n",
      "2           Östersund           Sweden             Karlskoga         incoming   \n",
      "3            Karlstad           Sweden           Helsingborg         incoming   \n",
      "4          Skellefteå           Sweden                 Falun         outgoing   \n",
      "5              Örebro           Sweden                 Falun         outgoing   \n",
      "6                Umeå           Sweden             Lidköping         outgoing   \n",
      "7           Sundsvall           Sweden             Linköping         outgoing   \n",
      "8               Växjö           Sweden             Karlskoga         incoming   \n",
      "9             Uppsala           Sweden            Norrköping         incoming   \n",
      "\n",
      "                      notes  \n",
      "0           Online purchase  \n",
      "1                Tax refund  \n",
      "2                Tax refund  \n",
      "3                       NaN  \n",
      "4                Tax refund  \n",
      "5            Consulting fee  \n",
      "6                Tax refund  \n",
      "7  Reimbursement for travel  \n",
      "8            Loan repayment  \n",
      "9              Utility bill  \n"
     ]
    }
   ],
   "execution_count": 17
  },
  {
   "metadata": {
    "ExecuteTime": {
     "end_time": "2025-05-20T13:17:20.062657Z",
     "start_time": "2025-05-20T13:17:19.933700Z"
    }
   },
   "cell_type": "code",
   "source": "print(df.isnull().sum())\n",
   "id": "6171098b61b5d9e1",
   "outputs": [
    {
     "name": "stdout",
     "output_type": "stream",
     "text": [
      "transaction_id              0\n",
      "timestamp                   0\n",
      "amount                      0\n",
      "currency                    0\n",
      "sender_account              0\n",
      "receiver_account            0\n",
      "sender_country            500\n",
      "sender_municipality       500\n",
      "receiver_country          500\n",
      "receiver_municipality     500\n",
      "transaction_type            0\n",
      "notes                    9982\n",
      "dtype: int64\n"
     ]
    }
   ],
   "execution_count": 18
  },
  {
   "metadata": {
    "ExecuteTime": {
     "end_time": "2025-05-20T13:17:44.974565Z",
     "start_time": "2025-05-20T13:17:44.951226Z"
    }
   },
   "cell_type": "code",
   "source": "df\n",
   "id": "734abb692df7bb7",
   "outputs": [
    {
     "data": {
      "text/plain": [
       "                             transaction_id            timestamp     amount  \\\n",
       "0      f2f3b0fc-b7d7-4d85-b682-cbf07ef77c1a  2025-03-06 12:04:00    7746.03   \n",
       "1      feccbd1e-7752-4452-a44a-901510252561  2025-03-31 01:37:00   45193.04   \n",
       "2      bc6a480c-e2e1-434d-830c-1cda3f913038  2025-04-29 22:58:00   33029.71   \n",
       "3      b832aa2c-77f3-4c4f-9697-9776b8d74abb  2025-02-27 14:52:00  35994 .61   \n",
       "4      0d32c6ef-508e-4f5d-bc64-341a0a9f498d  2025-01-03 22:29:00   32229.73   \n",
       "...                                     ...                  ...        ...   \n",
       "99995  ea7e0cb2-fadb-496c-962b-7e54a5cfa1bc  2025-02-03 17:00:00     146.04   \n",
       "99996  4271c3c0-d3be-49f5-8154-ee60e2a1e582  2025-01-07 14:00:00      56.98   \n",
       "99997  23574238-9739-4af4-a823-5b699812db4d  2025-05-11 13:00:00     128.34   \n",
       "99998  38e785ff-e460-419e-af07-595f5c67aaf6  2025-02-02 13:00:00     149.13   \n",
       "99999  94e5a276-d5ce-40f6-b17c-97885b455bbd  2025-05-09 15:00:00      41.77   \n",
       "\n",
       "      currency            sender_account          receiver_account  \\\n",
       "0          SEK  SE8902EWFT80524424320740  SE8902ZUIH32054423564254   \n",
       "1          SEK  SE8902GTSI58472323675409  SE8902ERNA19462716907689   \n",
       "2          SEK  SE8902SEZT63377163386089  SE8902LOLQ30361773270969   \n",
       "3          SEK  SE8902MGEE43594824630478  SE8902XIVG18316797897983   \n",
       "4          SEK  SE8902SZWO66860675966705  SE8902SUUS97732018069804   \n",
       "...        ...                       ...                       ...   \n",
       "99995      USD    GB39XHRG15445191862019  SE8902AQYT55466061009593   \n",
       "99996      USD    GB97OHYP64183530899251  SE8902AQYT55466061009593   \n",
       "99997      USD    GB68PWPH34390331224741  SE8902AQYT55466061009593   \n",
       "99998      USD    GB30NDUZ96025046626638  SE8902AQYT55466061009593   \n",
       "99999      USD    GB64JUMJ42347315082570  SE8902AQYT55466061009593   \n",
       "\n",
       "      sender_country sender_municipality receiver_country  \\\n",
       "0             Sweden          Karlskrona           Sweden   \n",
       "1             Sweden               Piteå           Sweden   \n",
       "2             Sweden           Östersund           Sweden   \n",
       "3             Sweden            Karlstad           Sweden   \n",
       "4             Sweden          Skellefteå           Sweden   \n",
       "...              ...                 ...              ...   \n",
       "99995     Mauritania        Jacksonville           Sweden   \n",
       "99996         Guinea         Waltersport           Sweden   \n",
       "99997        Tokelau           Davidfurt           Sweden   \n",
       "99998       Bulgaria     West Andrewside           Sweden   \n",
       "99999         Latvia        Crawfordfort           Sweden   \n",
       "\n",
       "      receiver_municipality transaction_type                  notes  \n",
       "0                Eskilstuna         outgoing        Online purchase  \n",
       "1                Norrköping         outgoing             Tax refund  \n",
       "2                 Karlskoga         incoming             Tax refund  \n",
       "3               Helsingborg         incoming                    NaN  \n",
       "4                     Falun         outgoing             Tax refund  \n",
       "...                     ...              ...                    ...  \n",
       "99995              Nyköping         outgoing  Gift to family member  \n",
       "99996            Skellefteå         incoming                    NaN  \n",
       "99997                 Luleå         incoming  Gift to family member  \n",
       "99998            Skellefteå         outgoing         Loan repayment  \n",
       "99999               Varberg         outgoing                    NaN  \n",
       "\n",
       "[100000 rows x 12 columns]"
      ],
      "text/html": [
       "<div>\n",
       "<style scoped>\n",
       "    .dataframe tbody tr th:only-of-type {\n",
       "        vertical-align: middle;\n",
       "    }\n",
       "\n",
       "    .dataframe tbody tr th {\n",
       "        vertical-align: top;\n",
       "    }\n",
       "\n",
       "    .dataframe thead th {\n",
       "        text-align: right;\n",
       "    }\n",
       "</style>\n",
       "<table border=\"1\" class=\"dataframe\">\n",
       "  <thead>\n",
       "    <tr style=\"text-align: right;\">\n",
       "      <th></th>\n",
       "      <th>transaction_id</th>\n",
       "      <th>timestamp</th>\n",
       "      <th>amount</th>\n",
       "      <th>currency</th>\n",
       "      <th>sender_account</th>\n",
       "      <th>receiver_account</th>\n",
       "      <th>sender_country</th>\n",
       "      <th>sender_municipality</th>\n",
       "      <th>receiver_country</th>\n",
       "      <th>receiver_municipality</th>\n",
       "      <th>transaction_type</th>\n",
       "      <th>notes</th>\n",
       "    </tr>\n",
       "  </thead>\n",
       "  <tbody>\n",
       "    <tr>\n",
       "      <th>0</th>\n",
       "      <td>f2f3b0fc-b7d7-4d85-b682-cbf07ef77c1a</td>\n",
       "      <td>2025-03-06 12:04:00</td>\n",
       "      <td>7746.03</td>\n",
       "      <td>SEK</td>\n",
       "      <td>SE8902EWFT80524424320740</td>\n",
       "      <td>SE8902ZUIH32054423564254</td>\n",
       "      <td>Sweden</td>\n",
       "      <td>Karlskrona</td>\n",
       "      <td>Sweden</td>\n",
       "      <td>Eskilstuna</td>\n",
       "      <td>outgoing</td>\n",
       "      <td>Online purchase</td>\n",
       "    </tr>\n",
       "    <tr>\n",
       "      <th>1</th>\n",
       "      <td>feccbd1e-7752-4452-a44a-901510252561</td>\n",
       "      <td>2025-03-31 01:37:00</td>\n",
       "      <td>45193.04</td>\n",
       "      <td>SEK</td>\n",
       "      <td>SE8902GTSI58472323675409</td>\n",
       "      <td>SE8902ERNA19462716907689</td>\n",
       "      <td>Sweden</td>\n",
       "      <td>Piteå</td>\n",
       "      <td>Sweden</td>\n",
       "      <td>Norrköping</td>\n",
       "      <td>outgoing</td>\n",
       "      <td>Tax refund</td>\n",
       "    </tr>\n",
       "    <tr>\n",
       "      <th>2</th>\n",
       "      <td>bc6a480c-e2e1-434d-830c-1cda3f913038</td>\n",
       "      <td>2025-04-29 22:58:00</td>\n",
       "      <td>33029.71</td>\n",
       "      <td>SEK</td>\n",
       "      <td>SE8902SEZT63377163386089</td>\n",
       "      <td>SE8902LOLQ30361773270969</td>\n",
       "      <td>Sweden</td>\n",
       "      <td>Östersund</td>\n",
       "      <td>Sweden</td>\n",
       "      <td>Karlskoga</td>\n",
       "      <td>incoming</td>\n",
       "      <td>Tax refund</td>\n",
       "    </tr>\n",
       "    <tr>\n",
       "      <th>3</th>\n",
       "      <td>b832aa2c-77f3-4c4f-9697-9776b8d74abb</td>\n",
       "      <td>2025-02-27 14:52:00</td>\n",
       "      <td>35994 .61</td>\n",
       "      <td>SEK</td>\n",
       "      <td>SE8902MGEE43594824630478</td>\n",
       "      <td>SE8902XIVG18316797897983</td>\n",
       "      <td>Sweden</td>\n",
       "      <td>Karlstad</td>\n",
       "      <td>Sweden</td>\n",
       "      <td>Helsingborg</td>\n",
       "      <td>incoming</td>\n",
       "      <td>NaN</td>\n",
       "    </tr>\n",
       "    <tr>\n",
       "      <th>4</th>\n",
       "      <td>0d32c6ef-508e-4f5d-bc64-341a0a9f498d</td>\n",
       "      <td>2025-01-03 22:29:00</td>\n",
       "      <td>32229.73</td>\n",
       "      <td>SEK</td>\n",
       "      <td>SE8902SZWO66860675966705</td>\n",
       "      <td>SE8902SUUS97732018069804</td>\n",
       "      <td>Sweden</td>\n",
       "      <td>Skellefteå</td>\n",
       "      <td>Sweden</td>\n",
       "      <td>Falun</td>\n",
       "      <td>outgoing</td>\n",
       "      <td>Tax refund</td>\n",
       "    </tr>\n",
       "    <tr>\n",
       "      <th>...</th>\n",
       "      <td>...</td>\n",
       "      <td>...</td>\n",
       "      <td>...</td>\n",
       "      <td>...</td>\n",
       "      <td>...</td>\n",
       "      <td>...</td>\n",
       "      <td>...</td>\n",
       "      <td>...</td>\n",
       "      <td>...</td>\n",
       "      <td>...</td>\n",
       "      <td>...</td>\n",
       "      <td>...</td>\n",
       "    </tr>\n",
       "    <tr>\n",
       "      <th>99995</th>\n",
       "      <td>ea7e0cb2-fadb-496c-962b-7e54a5cfa1bc</td>\n",
       "      <td>2025-02-03 17:00:00</td>\n",
       "      <td>146.04</td>\n",
       "      <td>USD</td>\n",
       "      <td>GB39XHRG15445191862019</td>\n",
       "      <td>SE8902AQYT55466061009593</td>\n",
       "      <td>Mauritania</td>\n",
       "      <td>Jacksonville</td>\n",
       "      <td>Sweden</td>\n",
       "      <td>Nyköping</td>\n",
       "      <td>outgoing</td>\n",
       "      <td>Gift to family member</td>\n",
       "    </tr>\n",
       "    <tr>\n",
       "      <th>99996</th>\n",
       "      <td>4271c3c0-d3be-49f5-8154-ee60e2a1e582</td>\n",
       "      <td>2025-01-07 14:00:00</td>\n",
       "      <td>56.98</td>\n",
       "      <td>USD</td>\n",
       "      <td>GB97OHYP64183530899251</td>\n",
       "      <td>SE8902AQYT55466061009593</td>\n",
       "      <td>Guinea</td>\n",
       "      <td>Waltersport</td>\n",
       "      <td>Sweden</td>\n",
       "      <td>Skellefteå</td>\n",
       "      <td>incoming</td>\n",
       "      <td>NaN</td>\n",
       "    </tr>\n",
       "    <tr>\n",
       "      <th>99997</th>\n",
       "      <td>23574238-9739-4af4-a823-5b699812db4d</td>\n",
       "      <td>2025-05-11 13:00:00</td>\n",
       "      <td>128.34</td>\n",
       "      <td>USD</td>\n",
       "      <td>GB68PWPH34390331224741</td>\n",
       "      <td>SE8902AQYT55466061009593</td>\n",
       "      <td>Tokelau</td>\n",
       "      <td>Davidfurt</td>\n",
       "      <td>Sweden</td>\n",
       "      <td>Luleå</td>\n",
       "      <td>incoming</td>\n",
       "      <td>Gift to family member</td>\n",
       "    </tr>\n",
       "    <tr>\n",
       "      <th>99998</th>\n",
       "      <td>38e785ff-e460-419e-af07-595f5c67aaf6</td>\n",
       "      <td>2025-02-02 13:00:00</td>\n",
       "      <td>149.13</td>\n",
       "      <td>USD</td>\n",
       "      <td>GB30NDUZ96025046626638</td>\n",
       "      <td>SE8902AQYT55466061009593</td>\n",
       "      <td>Bulgaria</td>\n",
       "      <td>West Andrewside</td>\n",
       "      <td>Sweden</td>\n",
       "      <td>Skellefteå</td>\n",
       "      <td>outgoing</td>\n",
       "      <td>Loan repayment</td>\n",
       "    </tr>\n",
       "    <tr>\n",
       "      <th>99999</th>\n",
       "      <td>94e5a276-d5ce-40f6-b17c-97885b455bbd</td>\n",
       "      <td>2025-05-09 15:00:00</td>\n",
       "      <td>41.77</td>\n",
       "      <td>USD</td>\n",
       "      <td>GB64JUMJ42347315082570</td>\n",
       "      <td>SE8902AQYT55466061009593</td>\n",
       "      <td>Latvia</td>\n",
       "      <td>Crawfordfort</td>\n",
       "      <td>Sweden</td>\n",
       "      <td>Varberg</td>\n",
       "      <td>outgoing</td>\n",
       "      <td>NaN</td>\n",
       "    </tr>\n",
       "  </tbody>\n",
       "</table>\n",
       "<p>100000 rows × 12 columns</p>\n",
       "</div>"
      ]
     },
     "execution_count": 19,
     "metadata": {},
     "output_type": "execute_result"
    }
   ],
   "execution_count": 19
  },
  {
   "metadata": {
    "ExecuteTime": {
     "end_time": "2025-05-20T14:56:07.198584Z",
     "start_time": "2025-05-20T14:56:07.189619Z"
    }
   },
   "cell_type": "code",
   "source": [
    "print(df.columns)\n",
    "\n"
   ],
   "id": "bb2ddeec9bcbc592",
   "outputs": [
    {
     "name": "stdout",
     "output_type": "stream",
     "text": [
      "Index(['transaction_id', 'timestamp', 'amount', 'currency', 'sender_account',\n",
      "       'receiver_account', 'sender_country', 'sender_municipality',\n",
      "       'receiver_country', 'receiver_municipality', 'transaction_type',\n",
      "       'notes'],\n",
      "      dtype='object')\n"
     ]
    }
   ],
   "execution_count": 21
  },
  {
   "metadata": {
    "ExecuteTime": {
     "end_time": "2025-05-20T14:57:12.249482Z",
     "start_time": "2025-05-20T14:57:12.150410Z"
    }
   },
   "cell_type": "code",
   "source": [
    "df[\"timestamp\"] = pd.to_datetime(df[\"timestamp\"], errors=\"coerce\")\n",
    "print(df[\"timestamp\"].isnull().sum())  # Ser hur många ogiltiga datum vi har\n"
   ],
   "id": "680d2891b350ad2b",
   "outputs": [
    {
     "name": "stdout",
     "output_type": "stream",
     "text": [
      "16\n"
     ]
    }
   ],
   "execution_count": 22
  },
  {
   "metadata": {
    "ExecuteTime": {
     "end_time": "2025-05-20T14:57:57.125252Z",
     "start_time": "2025-05-20T14:57:57.103511Z"
    }
   },
   "cell_type": "code",
   "source": [
    "invalid_dates = df[df[\"timestamp\"].isnull()]\n",
    "print(invalid_dates)\n"
   ],
   "id": "75953fede61d9d5",
   "outputs": [
    {
     "name": "stdout",
     "output_type": "stream",
     "text": [
      "                            transaction_id timestamp    amount currency  \\\n",
      "372   e13b1664-c549-4f92-895a-1f941dd6d82e       NaT  12881.63      SEK   \n",
      "374   7bfcf599-e449-4e63-a3f9-05631511e58a       NaT  20223.17      SEK   \n",
      "432   b75a64f1-d111-4261-9df0-53f2c38e2828       NaT  45069.28      SEK   \n",
      "566   bc91f1d3-e0b0-471b-844f-7e14941d3236       NaT   9908.07      SEK   \n",
      "658   e4ec0cfc-55e8-4ca1-b3f4-0948a1b8e997       NaT   3080.18      SEK   \n",
      "661   13638365-972b-4fd8-9518-f27557a7e1cd       NaT  34157.12      SEK   \n",
      "761   fda4c622-1044-49aa-bc41-b44bdd50bc9c       NaT   2192.15      SEK   \n",
      "814   bc23bd09-5b6a-4ebe-95ae-7dad0cde315a       NaT  21899.83      SEK   \n",
      "817   9687e5ce-f8e0-4afa-ac0c-54d8c6ef457f       NaT  36969.56      SEK   \n",
      "821   aee31e4c-e8c1-4fa5-b8bf-53815ab51b55       NaT   39794.0      SEK   \n",
      "866   f46345d0-c1f8-46d7-ae78-47c4a6b52fee       NaT   9573.92      SEK   \n",
      "876   2f48c8d5-cad7-48b0-8f8c-2f1324911dfd       NaT  34373.92      SEK   \n",
      "884   776cbccf-2d92-4e83-a702-6b6261fa7de0       NaT  46318.06      SEK   \n",
      "911   2452bd7a-a1b4-425d-a9e1-a6299edbc458       NaT  31961.53      SEK   \n",
      "913   bf0e480f-3993-4f19-99c3-8e223bd1cada       NaT   6091.76      SEK   \n",
      "1428  99ca438b-d55e-4ba4-b6fc-c353cc5d810b       NaT  22074.32      SEK   \n",
      "\n",
      "                sender_account          receiver_account sender_country  \\\n",
      "372   SE8902IOSH72112913547339  SE8902EXDO77351409949930         Sweden   \n",
      "374   SE8902UEXU77157980119965  SE8902EMWA07310860593299         Sweden   \n",
      "432   SE8902PBIW30011757227628  SE8902SZWO66860675966705         Sweden   \n",
      "566   SE8902HEXR67420014606110  SE8902PBIW30011757227628         Sweden   \n",
      "658   SE8902RXEO54698137995629  SE8902PXQH61449282091685         Sweden   \n",
      "661   SE8902XMWU73408358252236  SE8902HPKQ79721411987869            NaN   \n",
      "761   SE8902KSGF71738325166005  SE8902SWFR35893590471977         Sweden   \n",
      "814   SE8902GPFA36799720094528  SE8902AEOP68872744631879         Sweden   \n",
      "817   SE8902ZKDX10421013051508  SE8902ZQHA53957175041781         Sweden   \n",
      "821   SE8902FIYI65713456085419  SE8902RNER71700945656875         Sweden   \n",
      "866   SE8902NFSW96446848690649  SE8902IFPV72140679061770         Sweden   \n",
      "876   SE8902AEQJ97044224731438  SE8902FZSE04507369196975         Sweden   \n",
      "884   SE8902JZYF06547820263799  SE8902IBRL73514393853709         Sweden   \n",
      "911   SE8902IGFR09709190696891  SE8902GTCY42439402519574         Sweden   \n",
      "913   SE8902IILS20920256766703  SE8902WGYQ69186751021705         Sweden   \n",
      "1428  SE8902APWS33564004625903  SE8902MVZJ65066103207787         Sweden   \n",
      "\n",
      "     sender_municipality receiver_country receiver_municipality  \\\n",
      "372           Norrköping           Sweden            Trelleborg   \n",
      "374         Kristianstad           Sweden                 Luleå   \n",
      "432             Göteborg           Sweden               Lidingö   \n",
      "566           Karlskrona           Sweden              Göteborg   \n",
      "658            Sundsvall           Sweden             Uddevalla   \n",
      "661                Malmö           Sweden                 Luleå   \n",
      "761                 Lund           Sweden                  Umeå   \n",
      "814            Uddevalla           Sweden                 Borås   \n",
      "817            Jönköping           Sweden                Motala   \n",
      "821             Alingsås           Sweden             Linköping   \n",
      "866                Malmö           Sweden              Borlänge   \n",
      "876             Halmstad           Sweden             Sandviken   \n",
      "884              Lidingö           Sweden                 Luleå   \n",
      "911                  NaN           Sweden             Sandviken   \n",
      "913                Luleå           Sweden            Södertälje   \n",
      "1428             Lidingö           Sweden                 Falun   \n",
      "\n",
      "     transaction_type                      notes  \n",
      "372          incoming             Loan repayment  \n",
      "374          incoming             Loan repayment  \n",
      "432          incoming  Payment for invoice #3222  \n",
      "566          incoming              Rent transfer  \n",
      "658          incoming           Insurance payout  \n",
      "661          outgoing  Payment for invoice #8946  \n",
      "761          incoming               Utility bill  \n",
      "814          outgoing            Online purchase  \n",
      "817          incoming               Utility bill  \n",
      "821          outgoing            Mobile recharge  \n",
      "866          incoming                 Tax refund  \n",
      "876          outgoing  Payment for invoice #9893  \n",
      "884          incoming            Mobile recharge  \n",
      "911          incoming            Mobile recharge  \n",
      "913          incoming      Gift to family member  \n",
      "1428         incoming            Online purchase  \n"
     ]
    }
   ],
   "execution_count": 23
  }
 ],
 "metadata": {
  "kernelspec": {
   "display_name": "Python 3",
   "language": "python",
   "name": "python3"
  },
  "language_info": {
   "codemirror_mode": {
    "name": "ipython",
    "version": 2
   },
   "file_extension": ".py",
   "mimetype": "text/x-python",
   "name": "python",
   "nbconvert_exporter": "python",
   "pygments_lexer": "ipython2",
   "version": "2.7.6"
  }
 },
 "nbformat": 4,
 "nbformat_minor": 5
}
