{
 "cells": [
  {
   "metadata": {
    "ExecuteTime": {
     "end_time": "2025-05-21T09:57:33.834052Z",
     "start_time": "2025-05-21T09:57:33.831777Z"
    }
   },
   "cell_type": "code",
   "source": "import pandas as pd",
   "id": "3b47ae49d5a18359",
   "outputs": [],
   "execution_count": 5
  },
  {
   "cell_type": "code",
   "id": "initial_id",
   "metadata": {
    "collapsed": true,
    "ExecuteTime": {
     "end_time": "2025-05-21T09:57:35.689092Z",
     "start_time": "2025-05-21T09:57:35.686240Z"
    }
   },
   "source": "print(\"Hello World\")",
   "outputs": [
    {
     "name": "stdout",
     "output_type": "stream",
     "text": [
      "Hello World\n"
     ]
    }
   ],
   "execution_count": 6
  },
  {
   "metadata": {
    "ExecuteTime": {
     "end_time": "2025-05-21T09:57:37.616586Z",
     "start_time": "2025-05-21T09:57:37.361241Z"
    }
   },
   "cell_type": "code",
   "source": [
    "df = pd.read_csv(\"transactions.csv\")\n",
    "\n",
    "df.isnull().sum()"
   ],
   "id": "50b2e1a286681425",
   "outputs": [
    {
     "name": "stderr",
     "output_type": "stream",
     "text": [
      "C:\\Users\\Max\\AppData\\Local\\Temp\\ipykernel_28640\\4125964985.py:1: DtypeWarning: Columns (2) have mixed types. Specify dtype option on import or set low_memory=False.\n",
      "  df = pd.read_csv(\"transactions.csv\")\n"
     ]
    },
    {
     "data": {
      "text/plain": [
       "transaction_id              0\n",
       "timestamp                   0\n",
       "amount                      0\n",
       "currency                    0\n",
       "sender_account              0\n",
       "receiver_account            0\n",
       "sender_country            500\n",
       "sender_municipality       500\n",
       "receiver_country          500\n",
       "receiver_municipality     500\n",
       "transaction_type            0\n",
       "notes                    9982\n",
       "dtype: int64"
      ]
     },
     "execution_count": 7,
     "metadata": {},
     "output_type": "execute_result"
    }
   ],
   "execution_count": 7
  },
  {
   "metadata": {
    "ExecuteTime": {
     "end_time": "2025-05-21T09:57:42.776664Z",
     "start_time": "2025-05-21T09:57:42.686423Z"
    }
   },
   "cell_type": "code",
   "source": "print(df.duplicated())",
   "id": "36547b6954867883",
   "outputs": [
    {
     "name": "stdout",
     "output_type": "stream",
     "text": [
      "0        False\n",
      "1        False\n",
      "2        False\n",
      "3        False\n",
      "4        False\n",
      "         ...  \n",
      "99995    False\n",
      "99996    False\n",
      "99997    False\n",
      "99998    False\n",
      "99999    False\n",
      "Length: 100000, dtype: bool\n"
     ]
    }
   ],
   "execution_count": 8
  },
  {
   "metadata": {
    "ExecuteTime": {
     "end_time": "2025-05-21T09:58:33.793482Z",
     "start_time": "2025-05-21T09:58:33.699491Z"
    }
   },
   "cell_type": "code",
   "source": "new_df = df.drop_duplicates(inplace = True)",
   "id": "ed107fe92f436a15",
   "outputs": [],
   "execution_count": 10
  },
  {
   "metadata": {
    "ExecuteTime": {
     "end_time": "2025-05-21T09:58:43.222039Z",
     "start_time": "2025-05-21T09:58:43.217944Z"
    }
   },
   "cell_type": "code",
   "source": "",
   "id": "7c379066eab2604a",
   "outputs": [
    {
     "name": "stdout",
     "output_type": "stream",
     "text": [
      "None\n"
     ]
    }
   ],
   "execution_count": 11
  }
 ],
 "metadata": {
  "kernelspec": {
   "display_name": "Python 3",
   "language": "python",
   "name": "python3"
  },
  "language_info": {
   "codemirror_mode": {
    "name": "ipython",
    "version": 2
   },
   "file_extension": ".py",
   "mimetype": "text/x-python",
   "name": "python",
   "nbconvert_exporter": "python",
   "pygments_lexer": "ipython2",
   "version": "2.7.6"
  }
 },
 "nbformat": 4,
 "nbformat_minor": 5
}
